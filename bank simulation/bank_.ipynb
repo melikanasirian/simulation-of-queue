{
  "cells": [
    {
      "cell_type": "markdown",
      "id": "e51bd903",
      "metadata": {
        "id": "e51bd903"
      },
      "source": [
        "<div dir=rtl>\n",
        "به نام خدا\n",
        "</div>"
      ]
    },
    {
      "cell_type": "markdown",
      "id": "7f0d1986",
      "metadata": {
        "id": "7f0d1986"
      },
      "source": [
        "<div dir=rtl>\n",
        "در این فایل سعی داریم تا یک بانک را شبیه‌سازی کنیم. برای این کار، از SimPy استفاده خواهیم کرد.\n",
        "SimPy، کتابخانه شبیه‌سازی رویداد‌های گسسته می‌باشد که در آن، رفتار عناصر فعالی همچون مشتری‌ها و وسایل نقلیه، از طریق تعدادی از فرایندهای مشخص، مدل‌سازی\n",
        " می‌شوند. تمامی فرایند‌ها، در یک محیط قرار دارند و از طریق رویداد‌ها، با محیط و با یک‌دیگر تعامل دارند. فرایند‌ها از طریق مولدهای پایتون توصیف می‌شوند.\n",
        "</div>"
      ]
    },
    {
      "cell_type": "markdown",
      "id": "3119a560",
      "metadata": {
        "id": "3119a560"
      },
      "source": [
        "<div dir=rtl>\n",
        "به طور خاص،\n",
        "SimPy\n",
        "برای توسعه شبیه‌سازی یک بانک، با تعدادی متصدی باجه نیز استفاده خواهد شد.\n",
        "</div>"
      ]
    },
    {
      "cell_type": "markdown",
      "id": "7fbf22f3",
      "metadata": {
        "id": "7fbf22f3"
      },
      "source": [
        "<div dir=rtl>\n",
        "ما قصد داریم تا شبیه‌سازی خود را پله پله توسعه دهیم.\n",
        "</rtl>"
      ]
    },
    {
      "cell_type": "markdown",
      "id": "a60b7ea3",
      "metadata": {
        "id": "a60b7ea3"
      },
      "source": [
        "<div dir=rtl>\n",
        " بخش اول : ورود مشتری در یک زمان ثابت\n",
        "</div>"
      ]
    },
    {
      "cell_type": "markdown",
      "id": "d5498054",
      "metadata": {
        "id": "d5498054"
      },
      "source": [
        "<div dir=rtl>\n",
        "در ابتدا، مدلی با یک مشتری را شبیه‌سازی می‌کنیم؛ به طوری که مشتری وارد بانک\n",
        "می‌شود \n",
        "؛ محیط اطراف را نگاه می کند و سپس از بانک خارج می‌شود\n",
        "در اینجا، هیچ صفی وجود ندارد. همچنین زمان ورود و مدت زمانی که در بانک صرف \n",
        "می‌شود؛ ثابت در نظر گرفته می‌شود. \n",
        "</div>"
      ]
    },
    {
      "cell_type": "markdown",
      "id": "b422f23a",
      "metadata": {
        "id": "b422f23a"
      },
      "source": [
        "<div dir=rtl>\n",
        "برای شروع کار، کتابخانه‌های مورد نیاز خود را وارد می‌کنیم.\n",
        "</div>"
      ]
    },
    {
      "cell_type": "code",
      "source": [
        "pip install SimPy==2.3.1"
      ],
      "metadata": {
        "colab": {
          "base_uri": "https://localhost:8080/"
        },
        "id": "NeEx2A3mFX8H",
        "outputId": "4db4ab38-fd25-407b-d32f-e820dd556f25"
      },
      "id": "NeEx2A3mFX8H",
      "execution_count": null,
      "outputs": [
        {
          "output_type": "stream",
          "name": "stdout",
          "text": [
            "Looking in indexes: https://pypi.org/simple, https://us-python.pkg.dev/colab-wheels/public/simple/\n",
            "Requirement already satisfied: SimPy==2.3.1 in /usr/local/lib/python3.8/dist-packages (2.3.1)\n"
          ]
        }
      ]
    },
    {
      "cell_type": "code",
      "execution_count": null,
      "id": "775ee34e",
      "metadata": {
        "id": "775ee34e"
      },
      "outputs": [],
      "source": [
        "from SimPy.Simulation import *"
      ]
    },
    {
      "cell_type": "markdown",
      "id": "ab5ea120",
      "metadata": {
        "id": "ab5ea120"
      },
      "source": [
        "<div dir=rtl>\n",
        "بیشینه مقدار ممکن، برای زمان و مدت زمان ماندن در بانک را مقداردهی می‌کنیم.\n",
        "</div>"
      ]
    },
    {
      "cell_type": "code",
      "execution_count": null,
      "id": "1f5aac77",
      "metadata": {
        "id": "1f5aac77"
      },
      "outputs": [],
      "source": [
        "maximum_time = 120                            \n",
        "time_in_bank = 10"
      ]
    },
    {
      "cell_type": "code",
      "execution_count": null,
      "id": "ebb884c9",
      "metadata": {
        "colab": {
          "base_uri": "https://localhost:8080/",
          "height": 70
        },
        "id": "ebb884c9",
        "outputId": "f1d98fcb-8b9f-478f-f83f-4508cecbe316"
      },
      "outputs": [
        {
          "output_type": "stream",
          "name": "stdout",
          "text": [
            "8 Melika :Hello...I am entering in the bank\n",
            "18 Melika :I must leave the bank...Bye\n"
          ]
        },
        {
          "output_type": "execute_result",
          "data": {
            "text/plain": [
              "'SimPy: No more events at time 18'"
            ],
            "application/vnd.google.colaboratory.intrinsic+json": {
              "type": "string"
            }
          },
          "metadata": {},
          "execution_count": 110
        }
      ],
      "source": [
        "class Customer(Process):                                 \n",
        "        \n",
        "    def visit(self,timeInBank): \n",
        "        \n",
        "        print(now(),self.name,\":Hello...I am entering in the bank\" )              \n",
        "        yield hold,self,timeInBank                       \n",
        "        print (now(),self.name,\":I must leave the bank...Bye\")            \n",
        "\n",
        "\n",
        "initialize()  \n",
        "\n",
        "customer = Customer(name=\"Melika\")                               \n",
        "activate(customer,customer.visit(time_in_bank),at=8)                   \n",
        "simulate(until= maximum_time)               "
      ]
    },
    {
      "cell_type": "markdown",
      "id": "500bfada",
      "metadata": {
        "id": "500bfada"
      },
      "source": [
        "<div dir=rtl>\n",
        "بخش دوم: ورود بیش از یک مشتری در زمان‌های ثابت \n",
        "</div>"
      ]
    },
    {
      "cell_type": "markdown",
      "id": "139252e7",
      "metadata": {
        "id": "139252e7"
      },
      "source": [
        "<div dir=rtl>\n",
        "تعدادی مشتری در ساعات ثابتی، به بانک وارد شده و مدت زمانی به اطراف خود نگاه \n",
        "می‌کنند؛ سپس از بانک خارج می‌شوند.\n",
        "</div>"
      ]
    },
    {
      "cell_type": "code",
      "execution_count": null,
      "id": "d2356813",
      "metadata": {
        "id": "d2356813"
      },
      "outputs": [],
      "source": [
        "maximum_time = 200"
      ]
    },
    {
      "cell_type": "code",
      "execution_count": null,
      "id": "9a4e1570",
      "metadata": {
        "colab": {
          "base_uri": "https://localhost:8080/",
          "height": 140
        },
        "id": "9a4e1570",
        "outputId": "5e40b3ef-9817-40c6-9d70-fc740afa38fb"
      },
      "outputs": [
        {
          "output_type": "stream",
          "name": "stdout",
          "text": [
            "8.00 Melika:Hello...I am entering in the bank \n",
            "9.00 Zahra:Hello...I am entering in the bank \n",
            "11.00 Zari:Hello...I am entering in the bank \n",
            "15.00 Zahra:I must leave the bank...Bye\n",
            "18.00 Melika:I must leave the bank...Bye\n",
            "46.00 Zari:I must leave the bank...Bye\n"
          ]
        },
        {
          "output_type": "execute_result",
          "data": {
            "text/plain": [
              "'SimPy: No more events at time 46'"
            ],
            "application/vnd.google.colaboratory.intrinsic+json": {
              "type": "string"
            }
          },
          "metadata": {},
          "execution_count": 112
        }
      ],
      "source": [
        "class Customer(Process):\n",
        "\n",
        "    def visit(self,time_in_bank):       \n",
        "        print (\"%.2f %s:Hello...I am entering in the bank \"%(now(),self.name))   \n",
        "        yield hold,self,time_in_bank\n",
        "        print (\"%.2f %s:I must leave the bank...Bye\"%(now(),self.name))\n",
        "\n",
        "\n",
        "initialize()\n",
        "\n",
        "first_customer = Customer(name=\"Melika\")                              \n",
        "activate(first_customer,first_customer.visit(time_in_bank=10),at=8)\n",
        "second_customer = Customer(name=\"Zahra\")\n",
        "activate(second_customer,second_customer.visit(time_in_bank=6),at=9)\n",
        "third_customer = Customer(name=\"Zari\")\n",
        "activate(third_customer,third_customer.visit(time_in_bank=35),at=11)         \n",
        "simulate(until=maximum_time)   "
      ]
    },
    {
      "cell_type": "markdown",
      "id": "6cd45a4f",
      "metadata": {
        "id": "6cd45a4f"
      },
      "source": [
        "<div dir=rtl>\n",
        " بخش سوم: ورود تعداد زیادی مشتری در زمان‌های ثابت\n",
        " </div>"
      ]
    },
    {
      "cell_type": "markdown",
      "id": "ba89c261",
      "metadata": {
        "id": "ba89c261"
      },
      "source": [
        "<div dir=rtl>\n",
        "اگر تعداد مشتری‌ها از حد خاصی فراتر رود؛ به صورت زیر عمل می‌کنیم. همچنین \n",
        "می‌توانیم برای جداسازی مشتری‌ها، آن‌ها را شماره‌گذاری کنیم.\n",
        "</div>"
      ]
    },
    {
      "cell_type": "code",
      "execution_count": null,
      "id": "6c2da86d",
      "metadata": {
        "id": "6c2da86d"
      },
      "outputs": [],
      "source": [
        "max_number_of_customers = 15\n",
        "maximum_time = 500                              \n",
        "time_between_arrivals = 5"
      ]
    },
    {
      "cell_type": "code",
      "execution_count": null,
      "id": "3621200c",
      "metadata": {
        "colab": {
          "base_uri": "https://localhost:8080/",
          "height": 556
        },
        "id": "3621200c",
        "outputId": "04b2c833-0ea9-4ab0-b483-128c268d5b87"
      },
      "outputs": [
        {
          "output_type": "stream",
          "name": "stdout",
          "text": [
            "0.00 Customer1:Hello... I am entering in the bank\n",
            "5.00 Customer2:Hello... I am entering in the bank\n",
            "10.00 Customer1:I must leave the bank...Bye\n",
            "10.00 Customer3:Hello... I am entering in the bank\n",
            "15.00 Customer2:I must leave the bank...Bye\n",
            "15.00 Customer4:Hello... I am entering in the bank\n",
            "20.00 Customer3:I must leave the bank...Bye\n",
            "20.00 Customer5:Hello... I am entering in the bank\n",
            "25.00 Customer4:I must leave the bank...Bye\n",
            "25.00 Customer6:Hello... I am entering in the bank\n",
            "30.00 Customer5:I must leave the bank...Bye\n",
            "30.00 Customer7:Hello... I am entering in the bank\n",
            "35.00 Customer6:I must leave the bank...Bye\n",
            "35.00 Customer8:Hello... I am entering in the bank\n",
            "40.00 Customer7:I must leave the bank...Bye\n",
            "40.00 Customer9:Hello... I am entering in the bank\n",
            "45.00 Customer8:I must leave the bank...Bye\n",
            "45.00 Customer10:Hello... I am entering in the bank\n",
            "50.00 Customer9:I must leave the bank...Bye\n",
            "50.00 Customer11:Hello... I am entering in the bank\n",
            "55.00 Customer10:I must leave the bank...Bye\n",
            "55.00 Customer12:Hello... I am entering in the bank\n",
            "60.00 Customer11:I must leave the bank...Bye\n",
            "60.00 Customer13:Hello... I am entering in the bank\n",
            "65.00 Customer12:I must leave the bank...Bye\n",
            "65.00 Customer14:Hello... I am entering in the bank\n",
            "70.00 Customer13:I must leave the bank...Bye\n",
            "70.00 Customer15:Hello... I am entering in the bank\n",
            "75.00 Customer14:I must leave the bank...Bye\n",
            "80.00 Customer15:I must leave the bank...Bye\n"
          ]
        },
        {
          "output_type": "execute_result",
          "data": {
            "text/plain": [
              "'SimPy: No more events at time 80'"
            ],
            "application/vnd.google.colaboratory.intrinsic+json": {
              "type": "string"
            }
          },
          "metadata": {},
          "execution_count": 114
        }
      ],
      "source": [
        "class Source(Process):                              \n",
        "    \n",
        "\n",
        "    def generate(self,number,Time_between_arrival):                  \n",
        "        for i in range(number):\n",
        "            numeral_of_customer = i + 1\n",
        "            customer = Customer(name = \"Customer%d\"%numeral_of_customer)\n",
        "            activate(customer,customer.visit(time_in_bank=10))\n",
        "            yield hold,self,Time_between_arrival                    \n",
        "\n",
        "class Customer(Process):\n",
        "    \n",
        "        \n",
        "    def visit(self,time_in_bank):       \n",
        "        print (\"%.2f %s:Hello... I am entering in the bank\"%(now(),self.name))\n",
        "        yield hold,self,time_in_bank\n",
        "        print (\"%.2f %s:I must leave the bank...Bye\"%(now(),self.name))\n",
        "\n",
        "\n",
        "initialize()\n",
        "\n",
        "source = Source()                                             \n",
        "activate(source,source.generate(number=max_number_of_customers,Time_between_arrival=time_between_arrivals),at=0)             \n",
        "simulate(until=maximum_time)"
      ]
    },
    {
      "cell_type": "markdown",
      "id": "33591f7f",
      "metadata": {
        "id": "33591f7f"
      },
      "source": [
        "<div dir=rtl>\n",
        " بخش چهارم: ورود تعداد زیادی مشتری به صورت تصادفی \n",
        "</div>"
      ]
    },
    {
      "cell_type": "markdown",
      "id": "d7833cfe",
      "metadata": {
        "id": "d7833cfe"
      },
      "source": [
        "<div dir=rtl>\n",
        "در این بخش، زمان میان ورود دو مشتری، به صورت نمایی توزیع خواهد شد.\n",
        "</div>"
      ]
    },
    {
      "cell_type": "markdown",
      "id": "3394f879",
      "metadata": {
        "id": "3394f879"
      },
      "source": [
        "<div dir=rtl>\n",
        "همچنین می‌دانیم که کتابخانه استاندارد پایتون، ماژولی با عنوان random فراهم می‌کند که دارای دسته‌ای از توابع، برای تولید اعداد تصادفی است. پایتون از یک مولد اعداد تصادفی محبوب، به نام Mersenne Twister بهره می‌برد که یک توالی از اعداد تقریبا تصادفی را تولید می‌کند. این مولد، پارامتری را برای آغاز توالی دریافت می‌کند که\n",
        " دانه \n",
        " (seed)نامیده\n",
        "  می‌شود. تابع قطعی است؛ بدین معنا که دادن یک دانه مشابه، هر بار منجر به تولید توالی مشابهی از اعداد می‌شود. انتخاب دانه نیز اهمیتی ندارد.\n",
        "</div>"
      ]
    },
    {
      "cell_type": "code",
      "execution_count": null,
      "id": "116d4826",
      "metadata": {
        "id": "116d4826"
      },
      "outputs": [],
      "source": [
        "from random import expovariate, seed\n",
        "max_number_of_customers = 12\n",
        "maximum_time = 400                            \n",
        "mean_arrival_interval = 10\n",
        "seed(99999)"
      ]
    },
    {
      "cell_type": "code",
      "execution_count": null,
      "id": "4b6cf4bf",
      "metadata": {
        "colab": {
          "base_uri": "https://localhost:8080/",
          "height": 452
        },
        "id": "4b6cf4bf",
        "outputId": "549a63da-f91e-4887-bb11-806bb00e6760"
      },
      "outputs": [
        {
          "output_type": "stream",
          "name": "stdout",
          "text": [
            "0.00 Customer1:Hello...I am entering in the bank\n",
            "1.28 Customer2:Hello...I am entering in the bank\n",
            "4.98 Customer3:Hello...I am entering in the bank\n",
            "10.00 Customer1:I must leave the bank...Bye\n",
            "11.28 Customer2:I must leave the bank...Bye\n",
            "14.98 Customer3:I must leave the bank...Bye\n",
            "35.54 Customer4:Hello...I am entering in the bank\n",
            "45.54 Customer4:I must leave the bank...Bye\n",
            "48.99 Customer5:Hello...I am entering in the bank\n",
            "53.38 Customer6:Hello...I am entering in the bank\n",
            "55.64 Customer7:Hello...I am entering in the bank\n",
            "58.99 Customer5:I must leave the bank...Bye\n",
            "60.84 Customer8:Hello...I am entering in the bank\n",
            "63.38 Customer6:I must leave the bank...Bye\n",
            "65.64 Customer7:I must leave the bank...Bye\n",
            "70.84 Customer8:I must leave the bank...Bye\n",
            "86.59 Customer9:Hello...I am entering in the bank\n",
            "95.91 Customer10:Hello...I am entering in the bank\n",
            "96.59 Customer9:I must leave the bank...Bye\n",
            "105.91 Customer10:I must leave the bank...Bye\n",
            "113.23 Customer11:Hello...I am entering in the bank\n",
            "113.85 Customer12:Hello...I am entering in the bank\n",
            "123.23 Customer11:I must leave the bank...Bye\n",
            "123.85 Customer12:I must leave the bank...Bye\n"
          ]
        },
        {
          "output_type": "execute_result",
          "data": {
            "text/plain": [
              "'SimPy: No more events at time 123.85322176628041'"
            ],
            "application/vnd.google.colaboratory.intrinsic+json": {
              "type": "string"
            }
          },
          "metadata": {},
          "execution_count": 116
        }
      ],
      "source": [
        "from random import expovariate,seed            \n",
        "\n",
        "\n",
        "class Source(Process):\n",
        "\n",
        "    def generate(self,number,mean_Time_between_arrival):       \n",
        "        for i in range(number):\n",
        "            numeral_of_customer = i +1 \n",
        "            customer = Customer(name = \"Customer%d\"%numeral_of_customer)\n",
        "            activate(customer,customer.visit(time_in_bank=10))\n",
        "            time = expovariate(1/mean_Time_between_arrival)      \n",
        "            yield hold,self,time                  \n",
        "\n",
        "class Customer(Process):\n",
        "        \n",
        "    def visit(self,time_in_bank):       \n",
        "        print (\"%.2f %s:Hello...I am entering in the bank\"%(now(),self.name))\n",
        "        yield hold,self,time_in_bank\n",
        "        print (\"%.2f %s:I must leave the bank...Bye\"%(now(),self.name))\n",
        "\n",
        "initialize()\n",
        "source = Source(name = \"source\")                      \n",
        "activate(source,source.generate(number=max_number_of_customers,\n",
        "                      mean_Time_between_arrival=mean_arrival_interval),at=0)  \n",
        "simulate(until=maximum_time)"
      ]
    },
    {
      "cell_type": "markdown",
      "id": "40c0a9b2",
      "metadata": {
        "id": "40c0a9b2"
      },
      "source": [
        "<div dir=rtl>\n",
        " بخش پنجم: ورود تصادفی چندین مشتری در بانک، با یک سرور خدماتی و زمان خدمات ثابت \n",
        "</div>"
      ]
    },
    {
      "cell_type": "markdown",
      "id": "d5ad7359",
      "metadata": {
        "id": "d5ad7359"
      },
      "source": [
        "<div dir=rtl>\n",
        "تا کنون مدلی که درنظر گرفتیم؛ شبیه به گالری نقاشی بوده است. مشتری‌ها وارد بانک شده، به اطراف خود نگاه کرده و خارج می‌شدند. در این بخش، آن‌ها از کارمندان خدمات خواهند گرفت. \n",
        "</div>"
      ]
    },
    {
      "cell_type": "markdown",
      "id": "f2f2c764",
      "metadata": {
        "id": "f2f2c764"
      },
      "source": [
        "<div dir=rtl>\n",
        "اکنون مشتری‌ها برای دریافت خدمات، به سمت سرور خدماتی خواهند رفت. اگر کسی قبل از آن‌ها، به آن سرور مراجعه نکرده باشد؛ در همان لحظه، کار خود را انجام داده و سپس از بانک خارج می‌شوند. در غیر این صورت، باید به صف بپیوندند تا نوبت آن‌ها فرا برسد. \n",
        "</div>"
      ]
    },
    {
      "cell_type": "code",
      "execution_count": null,
      "id": "01b10740",
      "metadata": {
        "id": "01b10740"
      },
      "outputs": [],
      "source": [
        "max_number_of_customers= 5                                   \n",
        "maximum_time = 400                                \n",
        "mean_arrival_interval = 12 \n",
        "server = Resource(name=\"Counter\")     \n",
        "seed(99999)"
      ]
    },
    {
      "cell_type": "code",
      "execution_count": null,
      "id": "484c11ae",
      "metadata": {
        "colab": {
          "base_uri": "https://localhost:8080/",
          "height": 296
        },
        "id": "484c11ae",
        "outputId": "85cd0e8f-1824-4873-bfe2-717258bfcf93"
      },
      "outputs": [
        {
          "output_type": "stream",
          "name": "stdout",
          "text": [
            "0.00 Customer1:Hello...I am entering the bank\n",
            "0.00 Customer1: Waited 0.00 \n",
            "1.54 Customer2:Hello...I am entering the bank\n",
            "5.98 Customer3:Hello...I am entering the bank\n",
            "10.00 Customer1:I am leaving the bank...Bye\n",
            "10.00 Customer2: Waited 8.46 \n",
            "20.00 Customer2:I am leaving the bank...Bye\n",
            "20.00 Customer3: Waited 14.02 \n",
            "30.00 Customer3:I am leaving the bank...Bye\n",
            "42.65 Customer4:Hello...I am entering the bank\n",
            "42.65 Customer4: Waited 0.00 \n",
            "52.65 Customer4:I am leaving the bank...Bye\n",
            "58.79 Customer5:Hello...I am entering the bank\n",
            "58.79 Customer5: Waited 0.00 \n",
            "68.79 Customer5:I am leaving the bank...Bye\n"
          ]
        },
        {
          "output_type": "execute_result",
          "data": {
            "text/plain": [
              "'SimPy: No more events at time 68.79019598598786'"
            ],
            "application/vnd.google.colaboratory.intrinsic+json": {
              "type": "string"
            }
          },
          "metadata": {},
          "execution_count": 118
        }
      ],
      "source": [
        "class Source(Process):\n",
        "\n",
        "\n",
        "    def generate(self,number,mean_Time_between_arrival,resource):     \n",
        "        for i in range(number):\n",
        "            numeral_of_customer =i+1\n",
        "            customer = Customer(name = \"Customer%d\"%numeral_of_customer)\n",
        "            activate(customer,customer.visit(time_in_bank=10,resource = resource))          \n",
        "            time = expovariate(1/mean_Time_between_arrival)\n",
        "            yield hold,self,time\n",
        "\n",
        "class Customer(Process):\n",
        "        \n",
        "    def visit(self,time_in_bank,resource):       \n",
        "        arrival_time = now()          \n",
        "        print (\"%.2f %s:Hello...I am entering the bank\"%(now(),self.name))\n",
        "\n",
        "        yield request,self,resource                   \n",
        "        waiting_time = now()-arrival_time \n",
        "        print (\"%.2f %s: Waited %.2f \"%(now(),self.name,waiting_time))\n",
        "        yield hold,self,time_in_bank              \n",
        "        yield release,self,resource                  \n",
        "        \n",
        "        print (\"%.2f %s:I am leaving the bank...Bye\"%(now(),self.name))\n",
        "\n",
        "\n",
        "initialize()\n",
        "source = Source('Source')\n",
        "activate(source,source.generate(number=max_number_of_customers,            \n",
        "                      mean_Time_between_arrival=mean_arrival_interval, resource= server),at=0)        \n",
        "simulate(until=maximum_time)"
      ]
    },
    {
      "cell_type": "markdown",
      "id": "61cb31e4",
      "metadata": {
        "id": "61cb31e4"
      },
      "source": [
        "<div dir=rtl>\n",
        " بخش ششم: ورود تصادفی چندین مشتری در بانک، با یک سرور خدماتی و زمان خدمات تصادفی و غیرثابت\n",
        "</div>"
      ]
    },
    {
      "cell_type": "code",
      "execution_count": null,
      "id": "56d56caa",
      "metadata": {
        "id": "56d56caa"
      },
      "outputs": [],
      "source": [
        "max_number_of_customers = 20\n",
        "maximum_time = 400                                  \n",
        "mean_time_in_bank= 10                \n",
        "mean_arrival_interval = 10 \n",
        "server = Resource(name=\"Counter\")    \n",
        "seed(12344)"
      ]
    },
    {
      "cell_type": "code",
      "execution_count": null,
      "id": "a88a8469",
      "metadata": {
        "colab": {
          "base_uri": "https://localhost:8080/",
          "height": 1000
        },
        "id": "a88a8469",
        "outputId": "70b740dc-dde1-47fd-b4f7-88db38c8980f"
      },
      "outputs": [
        {
          "output_type": "stream",
          "name": "stdout",
          "text": [
            "0.00 Customer1:Hello...I am entering in the bank\n",
            "0.00 Customer1: Waited 0.00\n",
            "1.81 Customer2:Hello...I am entering in the bank\n",
            "2.30 Customer3:Hello...I am entering in the bank\n",
            "22.24 Customer1:I am leaving the bank\n",
            "22.24 Customer2: Waited 20.42\n",
            "29.79 Customer4:Hello...I am entering in the bank\n",
            "44.44 Customer2:I am leaving the bank\n",
            "44.44 Customer3: Waited 42.14\n",
            "47.96 Customer3:I am leaving the bank\n",
            "47.96 Customer4: Waited 18.17\n",
            "54.23 Customer5:Hello...I am entering in the bank\n",
            "55.33 Customer6:Hello...I am entering in the bank\n",
            "64.88 Customer4:I am leaving the bank\n",
            "64.88 Customer5: Waited 10.65\n",
            "69.72 Customer7:Hello...I am entering in the bank\n",
            "70.26 Customer8:Hello...I am entering in the bank\n",
            "73.18 Customer9:Hello...I am entering in the bank\n",
            "74.66 Customer5:I am leaving the bank\n",
            "74.66 Customer6: Waited 19.32\n",
            "75.30 Customer10:Hello...I am entering in the bank\n",
            "75.32 Customer6:I am leaving the bank\n",
            "75.32 Customer7: Waited 5.61\n",
            "84.63 Customer7:I am leaving the bank\n",
            "84.63 Customer8: Waited 14.36\n",
            "87.34 Customer8:I am leaving the bank\n",
            "87.34 Customer9: Waited 14.15\n",
            "89.33 Customer11:Hello...I am entering in the bank\n",
            "98.41 Customer12:Hello...I am entering in the bank\n",
            "101.45 Customer9:I am leaving the bank\n",
            "101.45 Customer10: Waited 26.15\n",
            "105.72 Customer13:Hello...I am entering in the bank\n",
            "118.30 Customer14:Hello...I am entering in the bank\n",
            "121.49 Customer10:I am leaving the bank\n",
            "121.49 Customer11: Waited 32.16\n",
            "123.85 Customer15:Hello...I am entering in the bank\n",
            "128.22 Customer11:I am leaving the bank\n",
            "128.22 Customer12: Waited 29.81\n",
            "130.78 Customer16:Hello...I am entering in the bank\n",
            "133.46 Customer12:I am leaving the bank\n",
            "133.46 Customer13: Waited 27.73\n",
            "138.32 Customer13:I am leaving the bank\n",
            "138.32 Customer14: Waited 20.02\n",
            "147.41 Customer14:I am leaving the bank\n",
            "147.41 Customer15: Waited 23.56\n",
            "150.32 Customer15:I am leaving the bank\n",
            "150.32 Customer16: Waited 19.53\n",
            "154.81 Customer16:I am leaving the bank\n",
            "157.97 Customer17:Hello...I am entering in the bank\n",
            "157.97 Customer17: Waited 0.00\n",
            "166.44 Customer17:I am leaving the bank\n",
            "249.16 Customer18:Hello...I am entering in the bank\n",
            "249.16 Customer18: Waited 0.00\n",
            "258.42 Customer19:Hello...I am entering in the bank\n",
            "259.06 Customer20:Hello...I am entering in the bank\n",
            "268.32 Customer18:I am leaving the bank\n",
            "268.32 Customer19: Waited 9.90\n",
            "273.78 Customer19:I am leaving the bank\n",
            "273.78 Customer20: Waited 14.72\n",
            "276.34 Customer20:I am leaving the bank\n"
          ]
        },
        {
          "output_type": "execute_result",
          "data": {
            "text/plain": [
              "'SimPy: No more events at time 276.3365552407229'"
            ],
            "application/vnd.google.colaboratory.intrinsic+json": {
              "type": "string"
            }
          },
          "metadata": {},
          "execution_count": 120
        }
      ],
      "source": [
        "class Source(Process):\n",
        "\n",
        "    def generate(self,number,mean_Time_between_arrival,resource):         \n",
        "        for i in range(number):\n",
        "            numeral_of_customer = i+1\n",
        "            customer = Customer(name = \"Customer%d\"%numeral_of_customer)\n",
        "            activate(customer,customer.visit(resource=resource))              \n",
        "            time = expovariate(1/mean_Time_between_arrival)               \n",
        "            yield hold,self,time\n",
        "\n",
        "class Customer(Process):\n",
        "        \n",
        "    def visit(self,resource):                                \n",
        "        arrival_time = now()\n",
        "        print (\"%.2f %s:Hello...I am entering in the bank\"%(now(),self.name))\n",
        "        yield request,self,resource                         \n",
        "        waiting_time = now()-arrival_time\n",
        "        print (\"%.2f %s: Waited %.2f\"%(now(),self.name,waiting_time))\n",
        "        service_time = expovariate(1/mean_time_in_bank)            \n",
        "        yield hold,self,service_time                         \n",
        "        yield release,self,resource                        \n",
        "        print (\"%.2f %s:I am leaving the bank\"%(now(),self.name))\n",
        "                                         \n",
        "\n",
        "initialize()\n",
        "source = Source('Source')\n",
        "activate(source,source.generate(number=max_number_of_customers,mean_Time_between_arrival=mean_arrival_interval, \n",
        "                      resource=server),at=0)           \n",
        "simulate(until=maximum_time)"
      ]
    },
    {
      "cell_type": "markdown",
      "id": "234466c0",
      "metadata": {
        "id": "234466c0"
      },
      "source": [
        "<div dir=rtl>\n",
        "بخش هفتم: ورود تصادفی چندین مشتری در بانک، با دو سرور خدماتی و زمان خدمات تصادفی و غیرثابت \n",
        "\n",
        "\n",
        " در این حالت، تنها امکان تشکیل یک صف وجود دارد. "
      ]
    },
    {
      "cell_type": "markdown",
      "id": "53979e66",
      "metadata": {
        "id": "53979e66"
      },
      "source": [
        "<div dir=rtl>\n",
        "در این بخش، دو سرور در نظر گرفته‌ایم؛ اما این‌گونه نخواهد بود که در صورت مشغول بودن سرورها، پشت هر سرور، صف جداگانه‌ای تشکیل شود. بنابراین، تنها یک صف وجود خواهد داشت و صف‌ها به صورت مجزا نخواهند بود.\n",
        "</div>"
      ]
    },
    {
      "cell_type": "code",
      "execution_count": null,
      "id": "9dc79d46",
      "metadata": {
        "id": "9dc79d46"
      },
      "outputs": [],
      "source": [
        "max_number_of_customers = 10\n",
        "maximum_time = 400                                   \n",
        "mean_time_in_bank= 10                    \n",
        "mean_arrival_interval= 5\n",
        "seed(12344)                                        \n",
        "servers = Resource(capacity=2)  "
      ]
    },
    {
      "cell_type": "code",
      "execution_count": null,
      "id": "9de4e8ee",
      "metadata": {
        "colab": {
          "base_uri": "https://localhost:8080/",
          "height": 556
        },
        "id": "9de4e8ee",
        "outputId": "9a7123b8-57e6-4b16-d6f6-32ab631e3078"
      },
      "outputs": [
        {
          "output_type": "stream",
          "name": "stdout",
          "text": [
            "0.00 Customer1:Hello...I am entering in the bank\n",
            "0.00 Customer1: Waited 0.00\n",
            "0.91 Customer2:Hello...I am entering in the bank\n",
            "0.91 Customer2: Waited 0.00\n",
            "1.15 Customer3:Hello...I am entering in the bank\n",
            "12.25 Customer4:Hello...I am entering in the bank\n",
            "22.24 Customer1:I am leaving the bank \n",
            "22.24 Customer3: Waited 21.09\n",
            "24.47 Customer5:Hello...I am entering in the bank\n",
            "25.76 Customer3:I am leaving the bank \n",
            "25.76 Customer4: Waited 13.51\n",
            "26.86 Customer4:I am leaving the bank \n",
            "26.86 Customer5: Waited 2.40\n",
            "28.40 Customer2:I am leaving the bank \n",
            "32.93 Customer6:Hello...I am entering in the bank\n",
            "32.93 Customer6: Waited 0.00\n",
            "33.47 Customer6:I am leaving the bank \n",
            "37.82 Customer7:Hello...I am entering in the bank\n",
            "37.82 Customer7: Waited 0.00\n",
            "39.28 Customer8:Hello...I am entering in the bank\n",
            "39.61 Customer9:Hello...I am entering in the bank\n",
            "39.93 Customer7:I am leaving the bank \n",
            "39.93 Customer8: Waited 0.66\n",
            "41.25 Customer5:I am leaving the bank \n",
            "41.25 Customer9: Waited 1.64\n",
            "43.96 Customer9:I am leaving the bank \n",
            "46.62 Customer10:Hello...I am entering in the bank\n",
            "46.62 Customer10: Waited 0.00\n",
            "49.24 Customer8:I am leaving the bank \n",
            "55.70 Customer10:I am leaving the bank \n"
          ]
        },
        {
          "output_type": "execute_result",
          "data": {
            "text/plain": [
              "'SimPy: No more events at time 55.697776512771085'"
            ],
            "application/vnd.google.colaboratory.intrinsic+json": {
              "type": "string"
            }
          },
          "metadata": {},
          "execution_count": 122
        }
      ],
      "source": [
        "class Source(Process):\n",
        "\n",
        "    def generate(self,number,mean_Time_between_arrival,resource):      \n",
        "        for i in range(number):\n",
        "            numeral_of_customer = i+1\n",
        "            customer= Customer(name = \"Customer%d\"%numeral_of_customer)\n",
        "            activate(customer,customer.visit(resource =resource))            \n",
        "            time = expovariate(1/mean_Time_between_arrival)              \n",
        "            yield hold,self,time\n",
        "\n",
        "class Customer(Process):\n",
        "        \n",
        "    def visit(self,resource):                                \n",
        "        arrival_time = now()\n",
        "        print (\"%.2f %s:Hello...I am entering in the bank\"%(now(),self.name))\n",
        "        yield request,self,resource                          \n",
        "        waiting_time = now()-arrival_time\n",
        "        print (\"%.2f %s: Waited %.2f\"%(now(),self.name,waiting_time))\n",
        "        service_time= expovariate(1/mean_time_in_bank)            \n",
        "        yield hold,self,service_time                        \n",
        "        yield release,self,resource                        \n",
        "        print (\"%.2f %s:I am leaving the bank \"%(now(),self.name))\n",
        "\n",
        "initialize()\n",
        "source = Source('Source')\n",
        "activate(source, source.generate(number=max_number_of_customers,mean_Time_between_arrival= mean_arrival_interval, \n",
        "                         resource=servers),at=0)           \n",
        "simulate(until=maximum_time)"
      ]
    },
    {
      "cell_type": "markdown",
      "id": "1518d65f",
      "metadata": {
        "id": "1518d65f"
      },
      "source": [
        "<div dir=rtl>\n",
        " بخش هشتم: ورود تصادفی چندین مشتری در بانک، با دو سرور خدماتی و زمان خدمات تصادفی و غیرثابت \n",
        "\n",
        "\n",
        " در این حالت، امکان تشکیل صف‌های مجزا وجود دارد.\n",
        "</div>"
      ]
    },
    {
      "cell_type": "markdown",
      "id": "ddfe3c15",
      "metadata": {
        "id": "ddfe3c15"
      },
      "source": [
        "<div dir=rtl>\n",
        "در این بخش نشان می‌دهیم که مشتری، چگونه تصمیم می‌گیرد که به کدام یک از صف‌ها ملحق شود و یا به کدام یک از سرورها مراجعه کند.\n",
        "در واقع مشتری‌ها، وارد بانک می‌شوند؛ کوتاه ترین صف را انتخاب می‌کنند و پس از گرفتن خدمات مورد نظرشان، بانک را ترک می‌کنند.\n",
        "</div>"
      ]
    },
    {
      "cell_type": "code",
      "execution_count": null,
      "id": "a3878674",
      "metadata": {
        "id": "a3878674"
      },
      "outputs": [],
      "source": [
        "max_number_of_customers = 20\n",
        "maximum_time = 400                                  \n",
        "mean_time_in_bank= 12                         \n",
        "mean_arrival_interval = 8                       \n",
        "number_of_counters = 2                                                \n",
        "seed(12345)\n",
        "servers= [Resource(name=\"counter1\"),Resource(name=\"counter2\")]   "
      ]
    },
    {
      "cell_type": "code",
      "execution_count": null,
      "id": "6b1268f6",
      "metadata": {
        "colab": {
          "base_uri": "https://localhost:8080/",
          "height": 1000
        },
        "id": "6b1268f6",
        "outputId": "515e7acd-afee-407c-eedc-45d8f1638371"
      },
      "outputs": [
        {
          "output_type": "stream",
          "name": "stdout",
          "text": [
            "0.00 Customer1:Hello...I am entering in the bank. [0, 0]\n",
            "0.00 Customer1: Waited 0.00\n",
            "0.12 Customer1:I am leaving the bank...Bye\n",
            "4.31 Customer2:Hello...I am entering in the bank. [0, 0]\n",
            "4.31 Customer2: Waited 0.00\n",
            "8.57 Customer2:I am leaving the bank...Bye\n",
            "18.26 Customer3:Hello...I am entering in the bank. [0, 0]\n",
            "18.26 Customer3: Waited 0.00\n",
            "20.85 Customer3:I am leaving the bank...Bye\n",
            "21.94 Customer4:Hello...I am entering in the bank. [0, 0]\n",
            "21.94 Customer4: Waited 0.00\n",
            "24.06 Customer4:I am leaving the bank...Bye\n",
            "28.62 Customer5:Hello...I am entering in the bank. [0, 0]\n",
            "28.62 Customer5: Waited 0.00\n",
            "29.68 Customer6:Hello...I am entering in the bank. [1, 0]\n",
            "29.68 Customer6: Waited 0.00\n",
            "31.98 Customer6:I am leaving the bank...Bye\n",
            "35.43 Customer5:I am leaving the bank...Bye\n",
            "36.29 Customer7:Hello...I am entering in the bank. [0, 0]\n",
            "36.29 Customer7: Waited 0.00\n",
            "41.55 Customer7:I am leaving the bank...Bye\n",
            "42.73 Customer8:Hello...I am entering in the bank. [0, 0]\n",
            "42.73 Customer8: Waited 0.00\n",
            "43.88 Customer8:I am leaving the bank...Bye\n",
            "68.10 Customer9:Hello...I am entering in the bank. [0, 0]\n",
            "68.10 Customer9: Waited 0.00\n",
            "74.48 Customer9:I am leaving the bank...Bye\n",
            "98.87 Customer10:Hello...I am entering in the bank. [0, 0]\n",
            "98.87 Customer10: Waited 0.00\n",
            "100.80 Customer10:I am leaving the bank...Bye\n",
            "104.48 Customer11:Hello...I am entering in the bank. [0, 0]\n",
            "104.48 Customer11: Waited 0.00\n",
            "107.01 Customer11:I am leaving the bank...Bye\n",
            "114.64 Customer12:Hello...I am entering in the bank. [0, 0]\n",
            "114.64 Customer12: Waited 0.00\n",
            "114.92 Customer12:I am leaving the bank...Bye\n",
            "117.98 Customer13:Hello...I am entering in the bank. [0, 0]\n",
            "117.98 Customer13: Waited 0.00\n",
            "121.30 Customer14:Hello...I am entering in the bank. [1, 0]\n",
            "121.30 Customer14: Waited 0.00\n",
            "137.67 Customer14:I am leaving the bank...Bye\n",
            "152.13 Customer15:Hello...I am entering in the bank. [1, 0]\n",
            "152.13 Customer15: Waited 0.00\n",
            "152.16 Customer16:Hello...I am entering in the bank. [1, 1]\n",
            "159.09 Customer13:I am leaving the bank...Bye\n",
            "159.09 Customer16: Waited 6.94\n",
            "168.52 Customer17:Hello...I am entering in the bank. [1, 1]\n",
            "170.10 Customer18:Hello...I am entering in the bank. [2, 1]\n",
            "170.94 Customer19:Hello...I am entering in the bank. [2, 2]\n",
            "175.22 Customer20:Hello...I am entering in the bank. [3, 2]\n",
            "176.77 Customer16:I am leaving the bank...Bye\n",
            "176.77 Customer17: Waited 8.25\n",
            "185.94 Customer15:I am leaving the bank...Bye\n",
            "185.94 Customer18: Waited 15.84\n",
            "187.13 Customer17:I am leaving the bank...Bye\n",
            "187.13 Customer19: Waited 16.19\n",
            "190.30 Customer19:I am leaving the bank...Bye\n",
            "201.94 Customer18:I am leaving the bank...Bye\n",
            "201.94 Customer20: Waited 26.72\n",
            "210.84 Customer20:I am leaving the bank...Bye\n"
          ]
        },
        {
          "output_type": "execute_result",
          "data": {
            "text/plain": [
              "'SimPy: No more events at time 210.84248196213036'"
            ],
            "application/vnd.google.colaboratory.intrinsic+json": {
              "type": "string"
            }
          },
          "metadata": {},
          "execution_count": 124
        }
      ],
      "source": [
        "class Source(Process):\n",
        "\n",
        "    def generate(self,number,interval,counters):                   \n",
        "        for i in range(number):\n",
        "            numeral_of_customer = i+1\n",
        "            customer = Customer(name = \"Customer%d\"%numeral_of_customer)\n",
        "            activate(customer,customer.visit(counters))\n",
        "            time = expovariate(1/interval)\n",
        "            yield hold,self,time\n",
        "\n",
        "def NoInSystem(R):                                                  \n",
        "    \"\"\" Total number of customers in the resource R\"\"\"\n",
        "    return (len(R.waitQ)+len(R.activeQ))                            \n",
        "\n",
        "class Customer(Process):\n",
        "        \n",
        "    def visit(self,counters):       \n",
        "        arrival_time = now()\n",
        "        Qlength = [NoInSystem(counters[i]) for i in range(number_of_counters)]      \n",
        "        print (\"%.2f %s:Hello...I am entering in the bank. %s\"%(now(),self.name,Qlength))   \n",
        "        for i in range(number_of_counters):                                         \n",
        "            if Qlength[i] == 0 or Qlength[i] == min(Qlength):\n",
        "                choice = i  # the chosen queue number                \n",
        "                break\n",
        "                \n",
        "        yield request,self,counters[choice]\n",
        "        waiting_time = now()-arrival_time\n",
        "        print (\"%.2f %s: Waited %.2f\"%(now(),self.name,waiting_time))\n",
        "        service_time = expovariate(1/mean_time_in_bank)\n",
        "        yield hold,self,service_time\n",
        "        yield release,self,counters[choice]\n",
        "\n",
        "        print (\"%.2f %s:I am leaving the bank...Bye\"%(now(),self.name))\n",
        "\n",
        "initialize()    \n",
        "source = Source('Source')\n",
        "activate(source,source.generate(number=max_number_of_customers,interval= mean_arrival_interval,\n",
        "                      counters=servers),at=0)\n",
        "simulate(until=maximum_time)"
      ]
    },
    {
      "cell_type": "markdown",
      "id": "50a90fc6",
      "metadata": {
        "id": "50a90fc6"
      },
      "source": [
        "<div dir=rtl>\n",
        " بخش نهم: بانک با یک مانیتور\n",
        "<div>"
      ]
    },
    {
      "cell_type": "markdown",
      "id": "5c343844",
      "metadata": {
        "id": "5c343844"
      },
      "source": [
        "<div dir=rtl>\n",
        "خروجی‌هایی که تاکنون نمایش داده شده‌اند؛ برای بررسی درستی عملکرد\n",
        " شبیه‌سازی، ارزشمند هستند؛ اما اگر یک روز کامل را شبیه‌سازی کنیم؛ بسیار زیاد می‌شوند. برای پاسخ به سؤالات اصلی، باید از شبیه‌سازی خود نتیجه بگیریم. پس باید به دنبال بهترین راه‌ها، برای خلاصه کردن نتایج باشیم.\n",
        "<div>"
      ]
    },
    {
      "cell_type": "markdown",
      "id": "c960008d",
      "metadata": {
        "id": "c960008d"
      },
      "source": [
        "<div dir=rtl>\n",
        "SimPy،\n",
        "یک راه آسان برای جمع‌آوری آماره‌های ساده، مانند میانگین ارائه\n",
        " می‌دهد:\n",
        "                                              \n",
        "کلاس مانیتور، مقادیر متغیرهای انتخابی را به عنوان سری زمانی ثبت می‌کند.\n",
        "</div>"
      ]
    },
    {
      "cell_type": "code",
      "execution_count": null,
      "id": "752f9622",
      "metadata": {
        "id": "752f9622"
      },
      "outputs": [],
      "source": [
        "max_number_of_customers = 60\n",
        "maximum_time = 1200                                    \n",
        "mean_time_in_bank = 12                         \n",
        "mean_arrival_interval = 8                        \n",
        "number_of_counters = 2  \n",
        "servers = Resource(capacity=number_of_counters) \n",
        "seed(12345)                                           "
      ]
    },
    {
      "cell_type": "code",
      "execution_count": null,
      "id": "8782b210",
      "metadata": {
        "colab": {
          "base_uri": "https://localhost:8080/"
        },
        "id": "8782b210",
        "outputId": "a10e123a-ccdf-4d8a-e41f-8fa3ec36f749"
      },
      "outputs": [
        {
          "output_type": "stream",
          "name": "stdout",
          "text": [
            "Average wait for 60 completions was 5.57 minutes.\n"
          ]
        }
      ],
      "source": [
        "class Source(Process):\n",
        "\n",
        "    def generate(self,number,interval,resource):       \n",
        "        for i in range(number):\n",
        "            numeral_of_customer = i+1\n",
        "            customer = Customer(name = \"Customer%d\"%numeral_of_customer)\n",
        "            activate(customer,customer.visit(resource=resource))\n",
        "            time = expovariate(1/interval)\n",
        "            yield hold,self,time\n",
        "\n",
        "class Customer(Process):\n",
        "        \n",
        "    def visit(self,resource):       \n",
        "        arrival_time= now()\n",
        "        yield request,self,resource\n",
        "        waiting_time = now()-arrival_time                       \n",
        "        waiting_times.observe(waiting_time)                 \n",
        "        service_time = expovariate(1/mean_time_in_bank)\n",
        "        yield hold,self,service_time\n",
        "        yield release,self,resource\n",
        "                    \n",
        "waiting_times= Monitor()                                             \n",
        "initialize()    \n",
        "source = Source('Source')\n",
        "activate(source,source.generate(number=max_number_of_customers,interval=mean_arrival_interval,   \n",
        "                      resource=servers),at=0)\n",
        "simulate(until=maximum_time)                                    \n",
        "\n",
        "\n",
        "result = waiting_times.count(),waiting_times.mean()                             \n",
        "print (\"Average wait for %d completions was %.2f minutes.\"% result)\n"
      ]
    },
    {
      "cell_type": "markdown",
      "id": "927c6fad",
      "metadata": {
        "id": "927c6fad"
      },
      "source": [
        "<div dir=rtl>\n",
        "در این حالت، میانگین زمان انتظار برای مشتری‌ها در سسیتم موردنظر، قابل اعتمادتر \n",
        "است. به این معنا که کمتر در معرض اثرات شبیه‌سازی تصادفی قرار خواهد گرفت؛ اما هنوز به اندازه کافی برای تصمیم‌گیری های دنیای واقعی، قابل اعتماد نیست.\n",
        " در واقع، ما باید اجرای کد خود را با استفاده از seed مختلف، تکرار کنیم که در قسمت بعدی، به آن خواهیم پرداخت. \n",
        "</div>"
      ]
    },
    {
      "cell_type": "markdown",
      "id": "b0d13858",
      "metadata": {
        "id": "b0d13858"
      },
      "source": [
        "<div dir=rtl>\n",
        "بخش دهم: تکرار اجرای شبیه‌سازی با استفاده از seed های مختلف \n",
        "</div>"
      ]
    },
    {
      "cell_type": "code",
      "execution_count": null,
      "id": "b9bdf330",
      "metadata": {
        "id": "b9bdf330"
      },
      "outputs": [],
      "source": [
        "max_number_of_customers = 60\n",
        "maximum_time = 2500                                 \n",
        "mean_time_in_bank = 10   \n",
        "mean_arrival_interval = 8  \n",
        "number_of_counters = 2          "
      ]
    },
    {
      "cell_type": "code",
      "execution_count": null,
      "id": "cff2db70",
      "metadata": {
        "colab": {
          "base_uri": "https://localhost:8080/"
        },
        "id": "cff2db70",
        "outputId": "a0813fe3-6936-4f38-ed56-7e1c78606f05"
      },
      "outputs": [
        {
          "output_type": "stream",
          "name": "stdout",
          "text": [
            "Average wait for 60 completions was 2.72 minutes.\n",
            "Average wait for 60 completions was 1.99 minutes.\n",
            "Average wait for 60 completions was 4.00 minutes.\n",
            "Average wait for 60 completions was 4.17 minutes.\n"
          ]
        }
      ],
      "source": [
        "class Source(Process):\n",
        "\n",
        "    def generate(self,number,interval,resource,average_waiting_times):       \n",
        "        for i in range(number):\n",
        "            customer = Customer(name = \"Customer%2d\"%i)\n",
        "            activate(customer,customer.visit(resource =resource,average_waiting_times = average_waiting_times))          \n",
        "            time = expovariate(1/interval)\n",
        "            yield hold,self,time\n",
        "\n",
        "class Customer(Process):\n",
        "    \n",
        "    def visit(self,resource,average_waiting_times):       \n",
        "        arrive = now()\n",
        "        yield request,self,resource\n",
        "        wait = now()-arrive\n",
        "        average_waiting_times.observe(wait)                                \n",
        "        service_time = expovariate(1/mean_time_in_bank)\n",
        "        yield hold,self,service_time\n",
        "        yield release,self,resource\n",
        "\n",
        "\n",
        "def model(runSeed):                            \n",
        "    seed(runSeed)\n",
        "    servers = Resource(capacity=number_of_counters)  \n",
        "    average_waiting_times = Monitor()                                   \n",
        "\n",
        "    initialize()\n",
        "    source = Source('Source')\n",
        "    activate(source,source.generate(number=max_number_of_customers,interval= mean_arrival_interval, \n",
        "                          resource= servers, average_waiting_times=average_waiting_times),at=0)         \n",
        "    simulate(until=maximum_time)\n",
        "    return (average_waiting_times.count(),average_waiting_times.mean())                     \n",
        "\n",
        "\n",
        "seeds = [393939,31555999,777999555,319999771]         \n",
        "for i in seeds:\n",
        "    result = model(i)\n",
        "    print (\"Average wait for %2d completions was %.2f minutes.\"% result)  "
      ]
    },
    {
      "cell_type": "markdown",
      "id": "d9e5b4c5",
      "metadata": {
        "id": "d9e5b4c5"
      },
      "source": [
        "<div dir=rtl>\n",
        "همان‌طور که دیده می‌شود؛ اختلاف کمی در نتایج \n",
        " وجود دارد.\n",
        "</div>"
      ]
    }
  ],
  "metadata": {
    "direction": "rtl",
    "kernelspec": {
      "display_name": "Python 3",
      "language": "python",
      "name": "python3"
    },
    "language_info": {
      "codemirror_mode": {
        "name": "ipython",
        "version": 3
      },
      "file_extension": ".py",
      "mimetype": "text/x-python",
      "name": "python",
      "nbconvert_exporter": "python",
      "pygments_lexer": "ipython3",
      "version": "3.8.8"
    },
    "colab": {
      "provenance": []
    }
  },
  "nbformat": 4,
  "nbformat_minor": 5
}