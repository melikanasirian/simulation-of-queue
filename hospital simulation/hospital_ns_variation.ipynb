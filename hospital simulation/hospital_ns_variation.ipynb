{
  "cells": [
    {
      "cell_type": "markdown",
      "id": "765f59cd",
      "metadata": {
        "direction": "rtl",
        "id": "765f59cd"
      },
      "source": [
        "<div dir=rtl>\n",
        "در این فایل سعی داریم تا در راستای تکمیل شبیه‌سازی‌های گذشته، احتمال کنترل پذیرش، \n",
        "احتمال افزایش سرعت و امید ریاضی طول صف را به عنوان تابعی از آستانه افزایش سرعت بررسی کنیم. به این معنا که آستانه کنترل پذیرش را ثابت در نظر می‌گیریم و با تغییر آستانه افزایش سرعت، معیار‌های ذکر شده را محاسبه می‌کنیم. در نهایت نمودار تغییرات آن‌ها را در آستانه‌های متفاوت افزایش سرعت ترسیم خواهیم کرد. \n",
        "</div>"
      ]
    },
    {
      "cell_type": "code",
      "execution_count": null,
      "id": "3db4a465",
      "metadata": {
        "id": "3db4a465"
      },
      "outputs": [],
      "source": [
        "import numpy as np\n",
        "import random\n",
        "import seaborn as sns\n",
        "import matplotlib.pyplot as plt\n",
        "import math\n",
        "import statistics"
      ]
    },
    {
      "cell_type": "code",
      "execution_count": null,
      "id": "a3b1d13e",
      "metadata": {
        "id": "a3b1d13e"
      },
      "outputs": [],
      "source": [
        "lambda_L = 4\n",
        "lambda_H = 7.5\n",
        "mu_L = 0.2\n",
        "mu_H = 0.286\n",
        "N = 40\n",
        "n = 0 \n",
        "new_time = 0 \n",
        "n_A = 0\n",
        "n_D = 0\n",
        "arrival_time_list = []\n",
        "departure_time_list = []\n",
        "n_list = []\n",
        "time_list = []\n",
        "na = 65\n",
        "ns = np.arange(1,100,4)"
      ]
    },
    {
      "cell_type": "code",
      "execution_count": null,
      "id": "14525c12",
      "metadata": {
        "id": "14525c12"
      },
      "outputs": [],
      "source": [
        "servers = []\n",
        "for _ in range(N):\n",
        "    servers.append(0)"
      ]
    },
    {
      "cell_type": "code",
      "execution_count": null,
      "id": "25f1b38b",
      "metadata": {
        "id": "25f1b38b"
      },
      "outputs": [],
      "source": [
        "def remove_values_from_list(the_list, val):\n",
        "    return [value for value in the_list if value != val]"
      ]
    },
    {
      "cell_type": "code",
      "execution_count": null,
      "id": "914c1924",
      "metadata": {
        "id": "914c1924"
      },
      "outputs": [],
      "source": [
        "probability_of_speedup_list = []\n",
        "probability_of_admission_control_list = [ ]\n",
        "expected_value_list = []\n",
        "\n",
        "for i in ns:\n",
        "\n",
        "    for _ in range (1000): \n",
        "    \n",
        "        if n < na and n <i:\n",
        "\n",
        "            lambda_ = lambda_H\n",
        "            mu_ = mu_L\n",
        "\n",
        "\n",
        "        elif n > na and n > i:\n",
        "\n",
        "            lambda_ = lambda_L\n",
        "            mu_ = mu_H\n",
        "\n",
        "\n",
        "        elif n < i and n > na :\n",
        "\n",
        "            lambda_ = lambda_L\n",
        "            mu_ = mu_L\n",
        "\n",
        "        elif n > i and n < na:\n",
        "\n",
        "            lambda_ = lambda_H\n",
        "            mu_ = mu_H\n",
        "\n",
        "\n",
        "\n",
        "\n",
        "        time = np.random.exponential(1/((n*mu_)+ lambda_))\n",
        "        #print(time)\n",
        "        new_time += time\n",
        "        time_list.append(new_time)\n",
        "        #print(new_time)\n",
        "\n",
        "        probability_of_arrival = lambda_ / ((n*mu_)+ lambda_)\n",
        "        probability_of_departure = (n*mu_) / ((n*mu_)+ lambda_)\n",
        "        events = [\"arrival\",\"departure\"]\n",
        "        distributioi = [probability_of_arrival,probability_of_departure]\n",
        "        random_events = np.random.choice(events, 1, True, distributioi)\n",
        "        #print(random_events)\n",
        "\n",
        "        if random_events == \"arrival\":\n",
        "            n += 1\n",
        "            n_A += 1\n",
        "            arrival_time = new_time\n",
        "            arrival_time_list.append(arrival_time)\n",
        "            servers.sort()\n",
        "            servers[0] += 1\n",
        "\n",
        "        elif random_events == \"departure\":\n",
        "\n",
        "            n -= 1\n",
        "            n_D += 1\n",
        "            departure_time = new_time\n",
        "            departure_time_list.append(departure_time)\n",
        "            number_of_empty_servers = servers.count(0)\n",
        "            alternative_servers = remove_values_from_list(servers,0)\n",
        "            random_index = random.randint(0,len(alternative_servers)-1)\n",
        "            alternative_servers[random_index] -= 1\n",
        "            for _ in range(number_of_empty_servers):\n",
        "                alternative_servers.append(0)\n",
        "            servers = alternative_servers\n",
        "\n",
        "        #print(n)\n",
        "        n_list.append(n)\n",
        "\n",
        "\n",
        "        new_time = time\n",
        "        \n",
        "    larger_elements = [element for element in n_list if element > na]\n",
        "    number_of_elements = len(larger_elements)\n",
        "    probability_of_admission_control = number_of_elements / len(n_list)\n",
        "\n",
        "    probability_of_admission_control_list.append(probability_of_admission_control)\n",
        "\n",
        "\n",
        "    larger_elements = [element for element in n_list if element > i]\n",
        "    number_of_elements = len(larger_elements)\n",
        "    probability_of_speedup = number_of_elements / len(n_list)\n",
        "\n",
        "\n",
        "    probability_of_speedup_list.append(probability_of_speedup)\n",
        "    \n",
        "    # E (X - N) +\n",
        "    element_list = []\n",
        "    for element in n_list:\n",
        "        element = max(0,element - N)\n",
        "        element_list.append(element)\n",
        "        expected_value = statistics.mean(element_list)\n",
        "    \n",
        "    expected_value_list.append(expected_value)\n",
        "\n",
        "    \n"
      ]
    },
    {
      "cell_type": "code",
      "execution_count": null,
      "id": "302bac5a",
      "metadata": {
        "colab": {
          "base_uri": "https://localhost:8080/"
        },
        "id": "302bac5a",
        "outputId": "c70ca315-3b9b-461e-844a-d519b49fc95e"
      },
      "outputs": [
        {
          "output_type": "stream",
          "name": "stdout",
          "text": [
            "[0.0, 0.0, 0.0, 0.0, 0.0, 0.0, 0.0, 0.0, 0.0, 0.0, 0.0, 0.0, 0.0, 0.0, 0.0, 0.0, 0.0, 0.0, 0.0, 0.0, 0.0, 0.0, 0.0, 0.0, 0.0]\n",
            "[0.999, 0.996, 0.995, 0.99475, 0.9836, 0.893, 0.6374285714285715, 0.3555, 0.1497777777777778, 0.0549, 0.022272727272727274, 0.009166666666666667, 0.0008461538461538462, 0.0, 0.0, 0.0, 0.0, 0.0, 0.0, 0.0, 0.0, 0.0, 0.0, 0.0, 0.0]\n"
          ]
        }
      ],
      "source": [
        "print(probability_of_admission_control_list)\n",
        "print(probability_of_speedup_list)"
      ]
    },
    {
      "cell_type": "code",
      "execution_count": null,
      "id": "139ac789",
      "metadata": {
        "colab": {
          "base_uri": "https://localhost:8080/"
        },
        "id": "139ac789",
        "outputId": "122ebedf-9439-4fea-859a-61dfadb64fcc"
      },
      "outputs": [
        {
          "output_type": "stream",
          "name": "stdout",
          "text": [
            "[0, 0.005, 0.053, 0.03975, 0.0318, 0.0275, 0.023571428571428573, 0.02125, 0.021666666666666667, 0.0247, 0.08263636363636363, 0.21691666666666667, 0.3259230769230769, 0.4502857142857143, 0.5004666666666666, 0.5101875, 0.596764705882353, 0.6881111111111111, 0.732, 0.8032, 0.8488571428571429, 0.8784090909090909, 0.8525217391304348, 0.8525416666666666, 0.93664]\n"
          ]
        }
      ],
      "source": [
        "print(expected_value_list)"
      ]
    },
    {
      "cell_type": "code",
      "execution_count": null,
      "id": "d32557f1",
      "metadata": {
        "colab": {
          "base_uri": "https://localhost:8080/",
          "height": 283
        },
        "id": "d32557f1",
        "outputId": "854fd47d-6183-446b-f51c-db69cae5a92d"
      },
      "outputs": [
        {
          "output_type": "display_data",
          "data": {
            "text/plain": [
              "<Figure size 432x288 with 1 Axes>"
            ],
            "image/png": "[encoded data removed]"
          },
          "metadata": {
            "needs_background": "light"
          }
        }
      ],
      "source": [
        "plt.scatter(ns,probability_of_admission_control_list)\n",
        "plt.plot(ns,probability_of_admission_control_list)\n",
        "plt.xlabel(\"$N_s$\")\n",
        "plt.ylabel(\"P(Admission)\")\n",
        "plt.show()"
      ]
    },
    {
      "cell_type": "code",
      "execution_count": null,
      "id": "920ddb14",
      "metadata": {
        "colab": {
          "base_uri": "https://localhost:8080/",
          "height": 283
        },
        "id": "920ddb14",
        "outputId": "c20c4c4c-2a59-476f-8d1e-888557a9beea"
      },
      "outputs": [
        {
          "output_type": "display_data",
          "data": {
            "text/plain": [
              "<Figure size 432x288 with 1 Axes>"
            ],
            "image/png": "[encoded data removed]"
          },
          "metadata": {
            "needs_background": "light"
          }
        }
      ],
      "source": [
        "plt.scatter(ns,probability_of_speedup_list)\n",
        "plt.plot(ns,probability_of_speedup_list)\n",
        "plt.xlabel(\"$N_s$\")\n",
        "plt.ylabel(\"P(Speedup)\")\n",
        "plt.show()"
      ]
    },
    {
      "cell_type": "code",
      "execution_count": null,
      "id": "ea6eb351",
      "metadata": {
        "colab": {
          "base_uri": "https://localhost:8080/",
          "height": 283
        },
        "id": "ea6eb351",
        "outputId": "c73f8350-138d-4b9c-8f9f-912fb5cc5ff5"
      },
      "outputs": [
        {
          "output_type": "display_data",
          "data": {
            "text/plain": [
              "<Figure size 432x288 with 1 Axes>"
            ],
            "image/png": "[encoded data removed]"
          },
          "metadata": {
            "needs_background": "light"
          }
        }
      ],
      "source": [
        "plt.scatter(ns,expected_value_list)\n",
        "plt.plot(ns,expected_value_list)\n",
        "plt.xlabel(\"$N_s$\")\n",
        "plt.ylabel(\"E[Q]\")\n",
        "plt.show()"
      ]
    },
    {
      "cell_type": "markdown",
      "id": "26df4333",
      "metadata": {
        "direction": "rtl",
        "id": "26df4333"
      },
      "source": [
        "<div dir=rtl>\n",
        "همان‌طور که می بینیم؛ همانند نمودار‌های ترسیم‌ ‌شده در مقاله با افزایش آستانه افزایش سرعت،  احتمال افزایش سرعت کاهش و امید ریاضی طول صف، افزایش پیدا کرده است. همچنین احتمال کنترل پذیرش، مقادیر صفر و یا نزدیک به صفر گرفته است. \n",
        "</div>"
      ]
    },
    {
      "cell_type": "markdown",
      "id": "1db1bd86",
      "metadata": {
        "direction": "rtl",
        "id": "1db1bd86"
      },
      "source": [
        "<div dir=rtl>\n",
        "همچنین در ادامه قصد داریم تا میانگین هزینه را با تعیین مقادیری مشخص برای نرخ هزینه انتظار هر مشتری، نرخ هزینه افزایش سرعت و نرخ هزینه کنترل پذیرش، در مرتبه‌های مختلف محاسبه کنیم."
      ]
    },
    {
      "cell_type": "code",
      "execution_count": null,
      "id": "17f299c9",
      "metadata": {
        "id": "17f299c9"
      },
      "outputs": [],
      "source": [
        "ca = 100\n",
        "cs = 100\n",
        "cw = 100"
      ]
    },
    {
      "cell_type": "code",
      "execution_count": null,
      "id": "b0238f8d",
      "metadata": {
        "id": "b0238f8d"
      },
      "outputs": [],
      "source": [
        "cost_of_admission_control = []\n",
        "for ele in probability_of_admission_control_list:\n",
        "    ele = ca * ele\n",
        "    cost_of_admission_control.append(ele)   "
      ]
    },
    {
      "cell_type": "code",
      "execution_count": null,
      "id": "12f272a2",
      "metadata": {
        "colab": {
          "base_uri": "https://localhost:8080/"
        },
        "id": "12f272a2",
        "outputId": "895f80fc-a3c4-4582-e1c0-27319acde709"
      },
      "outputs": [
        {
          "output_type": "execute_result",
          "data": {
            "text/plain": [
              "[0.0,\n",
              " 0.0,\n",
              " 0.0,\n",
              " 0.0,\n",
              " 0.0,\n",
              " 0.0,\n",
              " 0.0,\n",
              " 0.0,\n",
              " 0.0,\n",
              " 0.0,\n",
              " 0.0,\n",
              " 0.0,\n",
              " 0.0,\n",
              " 0.0,\n",
              " 0.0,\n",
              " 0.0,\n",
              " 0.0,\n",
              " 0.0,\n",
              " 0.0,\n",
              " 0.0,\n",
              " 0.0,\n",
              " 0.0,\n",
              " 0.0,\n",
              " 0.0,\n",
              " 0.0]"
            ]
          },
          "metadata": {},
          "execution_count": 13
        }
      ],
      "source": [
        "cost_of_admission_control"
      ]
    },
    {
      "cell_type": "code",
      "execution_count": null,
      "id": "016d4ab4",
      "metadata": {
        "id": "016d4ab4"
      },
      "outputs": [],
      "source": [
        "cost_of_speedup = []\n",
        "for ele in probability_of_speedup_list:\n",
        "    ele = cs * ele\n",
        "    cost_of_speedup.append(ele)   "
      ]
    },
    {
      "cell_type": "code",
      "execution_count": null,
      "id": "26fe4afc",
      "metadata": {
        "colab": {
          "base_uri": "https://localhost:8080/"
        },
        "id": "26fe4afc",
        "outputId": "b94bf2f7-d7ed-4bc9-9706-d067da864b39"
      },
      "outputs": [
        {
          "output_type": "execute_result",
          "data": {
            "text/plain": [
              "[99.9,\n",
              " 99.6,\n",
              " 99.5,\n",
              " 99.47500000000001,\n",
              " 98.36,\n",
              " 89.3,\n",
              " 63.74285714285715,\n",
              " 35.55,\n",
              " 14.977777777777778,\n",
              " 5.489999999999999,\n",
              " 2.2272727272727275,\n",
              " 0.9166666666666666,\n",
              " 0.08461538461538462,\n",
              " 0.0,\n",
              " 0.0,\n",
              " 0.0,\n",
              " 0.0,\n",
              " 0.0,\n",
              " 0.0,\n",
              " 0.0,\n",
              " 0.0,\n",
              " 0.0,\n",
              " 0.0,\n",
              " 0.0,\n",
              " 0.0]"
            ]
          },
          "metadata": {},
          "execution_count": 15
        }
      ],
      "source": [
        "cost_of_speedup"
      ]
    },
    {
      "cell_type": "code",
      "execution_count": null,
      "id": "a30677a0",
      "metadata": {
        "id": "a30677a0"
      },
      "outputs": [],
      "source": [
        "cost_of_expected = []\n",
        "for ele in expected_value_list:\n",
        "    ele = cw * ele\n",
        "    cost_of_expected.append(ele)   "
      ]
    },
    {
      "cell_type": "code",
      "execution_count": null,
      "id": "f226800e",
      "metadata": {
        "colab": {
          "base_uri": "https://localhost:8080/"
        },
        "id": "f226800e",
        "outputId": "358d85cc-3f7f-46f8-e723-86d04230db04"
      },
      "outputs": [
        {
          "output_type": "execute_result",
          "data": {
            "text/plain": [
              "[0,\n",
              " 0.5,\n",
              " 5.3,\n",
              " 3.975,\n",
              " 3.18,\n",
              " 2.75,\n",
              " 2.357142857142857,\n",
              " 2.125,\n",
              " 2.166666666666667,\n",
              " 2.4699999999999998,\n",
              " 8.263636363636364,\n",
              " 21.691666666666666,\n",
              " 32.59230769230769,\n",
              " 45.02857142857143,\n",
              " 50.04666666666666,\n",
              " 51.018750000000004,\n",
              " 59.6764705882353,\n",
              " 68.81111111111112,\n",
              " 73.2,\n",
              " 80.32000000000001,\n",
              " 84.88571428571429,\n",
              " 87.8409090909091,\n",
              " 85.25217391304348,\n",
              " 85.25416666666666,\n",
              " 93.664]"
            ]
          },
          "metadata": {},
          "execution_count": 17
        }
      ],
      "source": [
        "cost_of_expected"
      ]
    },
    {
      "cell_type": "code",
      "execution_count": null,
      "id": "02410aeb",
      "metadata": {
        "id": "02410aeb"
      },
      "outputs": [],
      "source": [
        "main_cost_list = []\n",
        "for i in range(len(cost_of_expected)):\n",
        "    \n",
        "    main_cost = cost_of_admission_control[i] + cost_of_speedup [i] + cost_of_expected [i]\n",
        "    main_cost_list.append(main_cost)\n",
        "    "
      ]
    },
    {
      "cell_type": "code",
      "execution_count": null,
      "id": "bb32efd4",
      "metadata": {
        "colab": {
          "base_uri": "https://localhost:8080/"
        },
        "id": "bb32efd4",
        "outputId": "6a280a76-72b5-46c3-c6fc-85ad5deea311"
      },
      "outputs": [
        {
          "output_type": "stream",
          "name": "stdout",
          "text": [
            "66.45976574786113\n"
          ]
        }
      ],
      "source": [
        "print(statistics.mean(main_cost_list))"
      ]
    },
    {
      "cell_type": "code",
      "execution_count": null,
      "id": "3d5899ff",
      "metadata": {
        "id": "3d5899ff"
      },
      "outputs": [],
      "source": [
        "first_sub_main_cost_list = []\n",
        "for i in range(len(cost_of_expected)):\n",
        "    \n",
        "    main_cost = cost_of_admission_control[i] + cost_of_speedup [i] + cost_of_expected [i]\n",
        "    first_sub_main_cost_list.append(main_cost / N)\n",
        "    "
      ]
    },
    {
      "cell_type": "code",
      "execution_count": null,
      "id": "5711b98c",
      "metadata": {
        "colab": {
          "base_uri": "https://localhost:8080/"
        },
        "id": "5711b98c",
        "outputId": "ac264a33-eb84-4f5a-df53-3857f6e186b6"
      },
      "outputs": [
        {
          "output_type": "stream",
          "name": "stdout",
          "text": [
            "1.661494143696528\n"
          ]
        }
      ],
      "source": [
        "print(statistics.mean(first_sub_main_cost_list))"
      ]
    },
    {
      "cell_type": "code",
      "execution_count": null,
      "id": "3a0afcda",
      "metadata": {
        "id": "3a0afcda"
      },
      "outputs": [],
      "source": [
        "second_sub_main_cost_list = []\n",
        "for i in range(len(cost_of_expected)):\n",
        "    \n",
        "    main_cost = cost_of_admission_control[i] + cost_of_speedup [i] + cost_of_expected [i]\n",
        "    second_sub_main_cost_list.append(main_cost / math.sqrt(N))\n",
        "    "
      ]
    },
    {
      "cell_type": "code",
      "execution_count": null,
      "id": "65b25657",
      "metadata": {
        "colab": {
          "base_uri": "https://localhost:8080/"
        },
        "id": "65b25657",
        "outputId": "6427d09f-54ab-41c6-b835-81e3e9abe0ae"
      },
      "outputs": [
        {
          "output_type": "stream",
          "name": "stdout",
          "text": [
            "10.508211626224243\n"
          ]
        }
      ],
      "source": [
        "print(statistics.mean(second_sub_main_cost_list))"
      ]
    }
  ],
  "metadata": {
    "kernelspec": {
      "display_name": "Python 3",
      "language": "python",
      "name": "python3"
    },
    "language_info": {
      "codemirror_mode": {
        "name": "ipython",
        "version": 3
      },
      "file_extension": ".py",
      "mimetype": "text/x-python",
      "name": "python",
      "nbconvert_exporter": "python",
      "pygments_lexer": "ipython3",
      "version": "3.8.8"
    },
    "colab": {
      "provenance": []
    }
  },
  "nbformat": 4,
  "nbformat_minor": 5
}