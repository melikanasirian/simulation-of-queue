{
  "cells": [
    {
      "cell_type": "markdown",
      "id": "53cbd269",
      "metadata": {
        "id": "53cbd269"
      },
      "source": [
        "<div dir=rtl>\n",
        "به نام خدا\n",
        "</div>"
      ]
    },
    {
      "cell_type": "markdown",
      "id": "4a404504",
      "metadata": {
        "id": "4a404504"
      },
      "source": [
        "<div dir=rtl>\n",
        "در این فایل سعی داریم تا به سه صورت، یک صف را شبیه‌سازی کنیم.\n",
        "</div>"
      ]
    },
    {
      "cell_type": "markdown",
      "id": "b671b37d",
      "metadata": {
        "id": "b671b37d"
      },
      "source": [
        "<div dir=rtl>\n",
        " روش اول: با استفاده از شی‌گرایی در پایتون\n",
        "<div>"
      ]
    },
    {
      "cell_type": "markdown",
      "id": "6a7326ed",
      "metadata": {
        "id": "6a7326ed"
      },
      "source": [
        "<div dir=rtl>\n",
        "دو کلاس تعریف خواهیم کرد:\n",
        "\n",
        "<div dir=rtl>\n",
        "     کلاس node: که object مد نظر ما را توصیف می‌کند.\n",
        "</div>\n",
        "<div dir=rtl>\n",
        "     کلاس Queue: که اتصال \n",
        "objectها \n",
        "      را انجام خواهد داد. \n",
        "</div>\n",
        "        "
      ]
    },
    {
      "cell_type": "markdown",
      "id": "16ace1bf",
      "metadata": {
        "id": "16ace1bf"
      },
      "source": [
        "<div dir=rtl>\n",
        "تابع __init__، اطلاعات مربوط به object‌ها  را استخراج  می کند.\n",
        "\n",
        "هر object، شامل یک دیتا می‌باشد که می‌توانیم به object بعد و قبل از آن نیز دسترسی داشته باشیم.\n",
        "\n",
        "اگر دنباله‌ای از nodeها  داشته باشیم؛ بهnode ابتدای صف ، front  و به node انتهای صف، rear گفته می‌شود. \n",
        "<div>"
      ]
    },
    {
      "cell_type": "markdown",
      "id": "0a9139b1",
      "metadata": {
        "id": "0a9139b1"
      },
      "source": [
        "<div dir=rtl>\n",
        "در کلاس Queue، چندین تابع معرفی خواهد شد که به معرفی آن‌ها می‌پردازیم:\n",
        "<div>"
      ]
    },
    {
      "cell_type": "markdown",
      "id": "531c8364",
      "metadata": {
        "id": "531c8364"
      },
      "source": [
        "<div dir=rtl>\n",
        "* تابع  __init__ :ما در ابتدا، صف را خالی در نظر خواهیم گرفت و این، بدین معنا خواهد بود که front  و  rear، هر دو None هستند. در واقع، معنی این تابع، سازنده خواهد بود و مفهوم سازنده، معادل با این است که در ابتدا، صف خالی باشد.\n",
        "<div>"
      ]
    },
    {
      "cell_type": "markdown",
      "id": "ba637fce",
      "metadata": {
        "id": "ba637fce"
      },
      "source": [
        "<div dir=rtl>\n",
        "تابع is_Empty: این تابع، خالی بودن صف را بررسی خواهد کرد و نتیجه را به صورت درست یا نادرست مشخص خواهد کرد. صف خالی، معادل با این است که در ابتدای صف، node   وجود نداشته باشد.\n",
        "<div>"
      ]
    },
    {
      "cell_type": "markdown",
      "id": "fea7c078",
      "metadata": {
        "id": "fea7c078"
      },
      "source": [
        "<div dir=rtl>\n",
        "تابع Enqueue: این تابع، به دنباله node ها، node \n",
        "جدید اضافه خواهد کرد. در این جا، دو حالت خواهیم داشت:\n",
        "\n",
        "* درصف، node وجود نداشته است: آن گاه داده جدید، هم به عنوان front و هم به عنوان rear خواهد بود.\n",
        "\n",
        "* در صف، node وجود داشته باشد: آن گاه داده جدید، به عنوان rear قرار داده خواهد شد.\n",
        "</div>"
      ]
    },
    {
      "cell_type": "markdown",
      "id": "a38638da",
      "metadata": {
        "id": "a38638da"
      },
      "source": [
        "<div dir=rtl>\n",
        "تابع Dequeue: این تابع، از دنباله node ها، node حذف خواهد کرد. در این‌جا، سه حالت خواهیم داشت:\n",
        "\n",
        "* اگر صف از ابتدا خالی باشد: در این حالت node ای وجود ندارد که بخواهیم آن را حذف کنیم.\n",
        "\n",
        "* اگر صف، بیش از یک node داشته باشد: آنگاه با حذف node اول، جایگاه front به node بعدی داده خواهد شد.\n",
        "\n",
        "* اگر در صف، تنها یک node وجود داشته باشد: آنگاه جایگاه front  و rear خالی خواهد شد. \n",
        "</div>"
      ]
    },
    {
      "cell_type": "code",
      "execution_count": null,
      "id": "730e23e2",
      "metadata": {
        "id": "730e23e2"
      },
      "outputs": [],
      "source": [
        "class Node:\n",
        "    def __init__(self,data):\n",
        "        self.data = data\n",
        "        self.next = None\n",
        "class Queue:\n",
        "    def __init__(self):\n",
        "        self.front = self.raer = None\n",
        "        \n",
        "    def is_Empty(self):\n",
        "        return self.front == None\n",
        "    \n",
        "    def Enqueue(self,data):\n",
        "        new_node = Node(data)\n",
        "        \n",
        "        if self.front == None:\n",
        "            self.front = self.rear = new_node\n",
        "            return\n",
        "        self.rear.next = new_node\n",
        "        self.rear = new_node\n",
        "        \n",
        "    def Dequeue(self):\n",
        "        if self.is_Empty():\n",
        "            print(\"The Queue is Empty\")\n",
        "            return\n",
        "        \n",
        "        tmp = self.front\n",
        "        self.front = tmp.next\n",
        "        \n",
        "        if self.front == None:\n",
        "            self.rear = None  "
      ]
    },
    {
      "cell_type": "markdown",
      "id": "430c604e",
      "metadata": {
        "id": "430c604e"
      },
      "source": [
        "<div dir=rtl>\n",
        "در بخش زیر، صف را می‌سازیم و تعدادی داده به آن اضافه می‌کنیم. آنگاه  front و rear آن را مشخص می‌کنیم.\n",
        "</div>"
      ]
    },
    {
      "cell_type": "code",
      "execution_count": null,
      "id": "80c33794",
      "metadata": {
        "colab": {
          "base_uri": "https://localhost:8080/"
        },
        "id": "80c33794",
        "outputId": "2b7dde87-8a55-45f5-eefe-249a3cfad11d"
      },
      "outputs": [
        {
          "output_type": "stream",
          "name": "stdout",
          "text": [
            "10 30\n"
          ]
        }
      ],
      "source": [
        "queue= Queue()\n",
        "queue.Enqueue(10)\n",
        "queue.Enqueue(20)\n",
        "queue.Enqueue(30)\n",
        "print(str(queue.front.data),str(queue.rear.data))"
      ]
    },
    {
      "cell_type": "markdown",
      "id": "f67cb1af",
      "metadata": {
        "id": "f67cb1af"
      },
      "source": [
        "<div dir=rtl>\n",
        "در این بخش، یک داده را حذف کرده و سپس front و rear آن را مشخص می‌کنیم.\n",
        "</div>"
      ]
    },
    {
      "cell_type": "code",
      "execution_count": null,
      "id": "7696468c",
      "metadata": {
        "colab": {
          "base_uri": "https://localhost:8080/"
        },
        "id": "7696468c",
        "outputId": "f797b737-9d93-4805-d384-b5dd5c498038"
      },
      "outputs": [
        {
          "output_type": "stream",
          "name": "stdout",
          "text": [
            "20 30\n"
          ]
        }
      ],
      "source": [
        "queue.Dequeue()\n",
        "print(str(queue.front.data),str(queue.rear.data))"
      ]
    },
    {
      "cell_type": "markdown",
      "id": "9cb10439",
      "metadata": {
        "id": "9cb10439"
      },
      "source": [
        "<div dir=rtl>\n",
        "روش دوم: با استفاده از کتابخانه queue"
      ]
    },
    {
      "cell_type": "markdown",
      "id": "e8717078",
      "metadata": {
        "id": "e8717078"
      },
      "source": [
        "<div dir=rtl>\n",
        "در ابتدا، کتابخانه مورد نظر را وارد می‌کنیم.\n",
        "</div>"
      ]
    },
    {
      "cell_type": "code",
      "execution_count": null,
      "id": "8bb9e21e",
      "metadata": {
        "id": "8bb9e21e"
      },
      "outputs": [],
      "source": [
        "from queue import Queue"
      ]
    },
    {
      "cell_type": "markdown",
      "id": "087ca312",
      "metadata": {
        "id": "087ca312"
      },
      "source": [
        "<div dir=rtl>\n",
        "با دستور maxsize  می‌توانیم طول صف را مشخص کنیم.\n",
        "</div>"
      ]
    },
    {
      "cell_type": "code",
      "execution_count": null,
      "id": "02b0465a",
      "metadata": {
        "id": "02b0465a"
      },
      "outputs": [],
      "source": [
        "queue = Queue(maxsize=4)"
      ]
    },
    {
      "cell_type": "markdown",
      "id": "c2bed53e",
      "metadata": {
        "id": "c2bed53e"
      },
      "source": [
        "<div dir=rtl>\n",
        "با دستور put می‌توانیم داده‌هایی از نوع عدد و str را به صف اضافه کنیم.\n",
        "</div>"
      ]
    },
    {
      "cell_type": "code",
      "execution_count": null,
      "id": "f0dd0aa6",
      "metadata": {
        "id": "f0dd0aa6"
      },
      "outputs": [],
      "source": [
        "queue.put(\"b\")"
      ]
    },
    {
      "cell_type": "code",
      "execution_count": null,
      "id": "af376612",
      "metadata": {
        "id": "af376612"
      },
      "outputs": [],
      "source": [
        "queue.put(1)"
      ]
    },
    {
      "cell_type": "markdown",
      "id": "8bf2c66b",
      "metadata": {
        "id": "8bf2c66b"
      },
      "source": [
        "<div dir=rtl>\n",
        "با دستور full می‌توانیم بررسی کنیم که صف پر می‌باشد یا خیر.\n",
        "</rtl>"
      ]
    },
    {
      "cell_type": "code",
      "execution_count": null,
      "id": "8e53b17c",
      "metadata": {
        "colab": {
          "base_uri": "https://localhost:8080/"
        },
        "id": "8e53b17c",
        "outputId": "08cd3799-c8ff-466c-f6df-66f7d3026756"
      },
      "outputs": [
        {
          "output_type": "stream",
          "name": "stdout",
          "text": [
            "False\n"
          ]
        }
      ],
      "source": [
        "print(queue.full())"
      ]
    },
    {
      "cell_type": "markdown",
      "id": "e7daacad",
      "metadata": {
        "id": "e7daacad"
      },
      "source": [
        "<div dir=rtl>\n",
        "با دستور get  می‌توانیم یک داده را از صف خارج کنیم.\n",
        "</div>"
      ]
    },
    {
      "cell_type": "code",
      "execution_count": null,
      "id": "a76d0d33",
      "metadata": {
        "colab": {
          "base_uri": "https://localhost:8080/",
          "height": 36
        },
        "id": "a76d0d33",
        "outputId": "9d68601d-bf8d-4c68-b82b-9e1cc67aa44b"
      },
      "outputs": [
        {
          "output_type": "execute_result",
          "data": {
            "text/plain": [
              "'b'"
            ],
            "application/vnd.google.colaboratory.intrinsic+json": {
              "type": "string"
            }
          },
          "metadata": {},
          "execution_count": 37
        }
      ],
      "source": [
        "queue.get(1)"
      ]
    },
    {
      "cell_type": "markdown",
      "id": "fe11219a",
      "metadata": {
        "id": "fe11219a"
      },
      "source": [
        "<div dir=rtl>\n",
        "با دستور empty نیز خالی بودن صف بررسی خواهد شد.\n",
        "</div>"
      ]
    },
    {
      "cell_type": "code",
      "execution_count": null,
      "id": "60ec3ed2",
      "metadata": {
        "colab": {
          "base_uri": "https://localhost:8080/"
        },
        "id": "60ec3ed2",
        "outputId": "b380ebad-3c35-4799-e137-6eb69a97c7ce"
      },
      "outputs": [
        {
          "output_type": "stream",
          "name": "stdout",
          "text": [
            "False\n"
          ]
        }
      ],
      "source": [
        "print(queue.empty())"
      ]
    },
    {
      "cell_type": "markdown",
      "id": "e93d5248",
      "metadata": {
        "id": "e93d5248"
      },
      "source": [
        "<div dir=rtl>\n",
        " روش سوم: با استفاده از کتابخانه collections\n",
        "</rtl>"
      ]
    },
    {
      "cell_type": "markdown",
      "id": "c38547d2",
      "metadata": {
        "id": "c38547d2"
      },
      "source": [
        "<div dir=rtl>\n",
        "ابتدا، کتابخانه مد نظر را وارد می‌کنیم.\n",
        "</div>"
      ]
    },
    {
      "cell_type": "code",
      "execution_count": null,
      "id": "890e6716",
      "metadata": {
        "id": "890e6716"
      },
      "outputs": [],
      "source": [
        "from collections import deque"
      ]
    },
    {
      "cell_type": "markdown",
      "id": "20eadb6c",
      "metadata": {
        "id": "20eadb6c"
      },
      "source": [
        "<div dir=rtl>\n",
        "سپس می‌توانیم صف را تشکیل داده و همانند لیست‌ها، به آن عضو اضافه کنیم و یا از آن، عضوی حذف کنیم.\n",
        "دستور popleft، اولین عنصر از سمت چپ را حذف خواهد کرد.\n",
        "</div>"
      ]
    },
    {
      "cell_type": "code",
      "execution_count": null,
      "id": "255206e6",
      "metadata": {
        "colab": {
          "base_uri": "https://localhost:8080/"
        },
        "id": "255206e6",
        "outputId": "c5eb26e5-882b-4a1b-8233-cbff58cb20bf"
      },
      "outputs": [
        {
          "output_type": "stream",
          "name": "stdout",
          "text": [
            "deque([10, 20, 30])\n"
          ]
        }
      ],
      "source": [
        "queue = deque()\n",
        "queue.append(10)\n",
        "queue.append(20)\n",
        "queue.append(30)\n",
        "print(queue)"
      ]
    },
    {
      "cell_type": "code",
      "execution_count": null,
      "id": "9a168416",
      "metadata": {
        "colab": {
          "base_uri": "https://localhost:8080/"
        },
        "id": "9a168416",
        "outputId": "0df55e0b-053b-43ea-ac11-29829072cdc1"
      },
      "outputs": [
        {
          "output_type": "execute_result",
          "data": {
            "text/plain": [
              "10"
            ]
          },
          "metadata": {},
          "execution_count": 41
        }
      ],
      "source": [
        "queue.popleft()"
      ]
    },
    {
      "cell_type": "code",
      "execution_count": null,
      "id": "4caf44bd",
      "metadata": {
        "colab": {
          "base_uri": "https://localhost:8080/"
        },
        "id": "4caf44bd",
        "outputId": "87d4c626-bb24-4de7-c3f0-2061166b3c4f"
      },
      "outputs": [
        {
          "output_type": "stream",
          "name": "stdout",
          "text": [
            "deque([20, 30])\n"
          ]
        }
      ],
      "source": [
        "print(queue)"
      ]
    }
  ],
  "metadata": {
    "direction": "rtl",
    "kernelspec": {
      "display_name": "Python 3",
      "language": "python",
      "name": "python3"
    },
    "language_info": {
      "codemirror_mode": {
        "name": "ipython",
        "version": 3
      },
      "file_extension": ".py",
      "mimetype": "text/x-python",
      "name": "python",
      "nbconvert_exporter": "python",
      "pygments_lexer": "ipython3",
      "version": "3.8.8"
    },
    "colab": {
      "provenance": []
    }
  },
  "nbformat": 4,
  "nbformat_minor": 5
}