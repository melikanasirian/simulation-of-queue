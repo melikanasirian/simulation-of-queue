{
  "cells": [
    {
      "cell_type": "markdown",
      "id": "9f381901",
      "metadata": {
        "direction": "rtl",
        "id": "9f381901"
      },
      "source": [
        "<div dir=rtl>\n",
        "به نام خدا \n",
        "</div>"
      ]
    },
    {
      "cell_type": "markdown",
      "id": "c5049553",
      "metadata": {
        "direction": "rtl",
        "id": "c5049553"
      },
      "source": [
        "<div dir=rtl>\n",
        "در این فایل، در نظر داریم تا سیستم صفی را مورد بررسی قرار دهیم که\n",
        " نرخ ورود آن، در طول زمان تغییر می‌کند. مدلی که در ادامه، پیاده‌سازی خواهیم کرد؛ سوپر مارکت خواهد بود. همان‌طور که می‌دانیم؛ نرخ ورود مشتری‌ها در ساعات اولیه صبح، کم و در ابتدای ظهر، زیاد خواهد شد. این نرخ تا زمانی که به اوج خرید مشتری‌ها، یعنی انتهای عصر، نزدیک شویم؛ کاهش می‌یابد و سپس در آن لحظه، نرخ ورود، بیشترین مقدار خود را خواهد گرفت و پس از آن، مجددا کاهش می‌یابد.\n",
        "</div>"
      ]
    },
    {
      "cell_type": "markdown",
      "id": "77cec3f9",
      "metadata": {
        "id": "77cec3f9"
      },
      "source": [
        "<div dir=rtl>\n",
        "ابتدا، کتابخانه‌های مورد نیاز را وارد می‌کنیم.\n",
        "</div>"
      ]
    },
    {
      "cell_type": "code",
      "execution_count": null,
      "id": "7b28fac3",
      "metadata": {
        "id": "7b28fac3"
      },
      "outputs": [],
      "source": [
        "import numpy as np\n",
        "from numpy.random import poisson,exponential,uniform\n",
        "import matplotlib.pylab as plt"
      ]
    },
    {
      "cell_type": "markdown",
      "id": "d701778c",
      "metadata": {
        "id": "d701778c"
      },
      "source": [
        "<div dir=rtl>\n",
        "سپس، نرخ ورود مشتری‌ها را مطابق با توضیحاتی که در بالا داده شد؛ وارد می‌کنیم. \n",
        "\n",
        "</div>"
      ]
    },
    {
      "cell_type": "code",
      "execution_count": null,
      "id": "086c7adb",
      "metadata": {
        "id": "086c7adb"
      },
      "outputs": [],
      "source": [
        "arrival_rates = [1,1,2,2,2,3,2.5,2.5,2,2,4,3.5,3,3,2,2,1]"
      ]
    },
    {
      "cell_type": "markdown",
      "id": "c7ae0ad7",
      "metadata": {
        "id": "c7ae0ad7"
      },
      "source": [
        "<div dir=rtl>\n",
        "اگر سوپر مارکت، از ساعت هفت صبح الی دوازده شب، باز باشد؛ آنگاه اولین عنصر از لیست بالا، یعنی عدد یک، نشان‌دهنده این است که متوسط تعداد مشتری‌هایی که از ساعت هفت الی هشت صبح، به بانک وارد شده‌اند؛ در هر دقیقه، برابر با یک نفر بوده است.\n",
        " همچنین عدد چهار نیز، به عنوان بیشترین میزان نرخ ورود، بیانگر این است که در ساعت  پنج الی شش بعد از ظهر، تعداد مشتری‌ها، به اوج خود رسیده است.\n",
        "</div>"
      ]
    },
    {
      "cell_type": "markdown",
      "id": "46db8e02",
      "metadata": {
        "id": "46db8e02"
      },
      "source": [
        "<div dir=rtl>\n",
        "با دستور زیر می‌توانیم چک کنیم که فروشگاه، به چه مدت، باز می‌باشد.\n",
        "</div>\n",
        "\n"
      ]
    },
    {
      "cell_type": "code",
      "execution_count": null,
      "id": "8a87caa5",
      "metadata": {
        "colab": {
          "base_uri": "https://localhost:8080/"
        },
        "id": "8a87caa5",
        "outputId": "3334b889-878a-4ace-c18a-6f51f28ad5c3"
      },
      "outputs": [
        {
          "output_type": "execute_result",
          "data": {
            "text/plain": [
              "17"
            ]
          },
          "metadata": {},
          "execution_count": 52
        }
      ],
      "source": [
        "len(arrival_rates)"
      ]
    },
    {
      "cell_type": "markdown",
      "id": "9b9020fc",
      "metadata": {
        "id": "9b9020fc"
      },
      "source": [
        "<div dir=rtl>\n",
        "بنابراین فروشگاه، هفده ساعت، باز می‌باشد.\n",
        "</div>"
      ]
    },
    {
      "cell_type": "markdown",
      "id": "9d00b1c3",
      "metadata": {
        "id": "9d00b1c3"
      },
      "source": [
        "<div dir=rtl>\n",
        "اکنون پس از تعیین نرخ ورود مشتری‌ها، به سراغ محاسبه تعداد مشتری‌هایی می‌رویم که در بازه‌های زمانی یک ساعته، به سوپرمارکت وارد می‌شوند.\n",
        "</div>"
      ]
    },
    {
      "cell_type": "code",
      "execution_count": null,
      "id": "78cfc0df",
      "metadata": {
        "id": "78cfc0df"
      },
      "outputs": [],
      "source": [
        "number_of_arrivals = np.zeros(len(arrival_rates))"
      ]
    },
    {
      "cell_type": "code",
      "execution_count": null,
      "id": "4c0282b9",
      "metadata": {
        "colab": {
          "base_uri": "https://localhost:8080/"
        },
        "id": "4c0282b9",
        "outputId": "b057f78a-df66-4940-c830-60b72bcb4458"
      },
      "outputs": [
        {
          "output_type": "execute_result",
          "data": {
            "text/plain": [
              "array([0., 0., 0., 0., 0., 0., 0., 0., 0., 0., 0., 0., 0., 0., 0., 0., 0.])"
            ]
          },
          "metadata": {},
          "execution_count": 54
        }
      ],
      "source": [
        "number_of_arrivals"
      ]
    },
    {
      "cell_type": "markdown",
      "id": "ae04a31e",
      "metadata": {
        "id": "ae04a31e"
      },
      "source": [
        "<div dir=rtl>\n",
        "فرایند ورود مشتری‌ها را پواسون در نظر می‌گیریم. به علت این که یک ساعت، شصت دقیقه \n",
        "می‌باشد؛ نرخ ورودی را در عدد شصت، ضرب خواهیم کرد. بنابراین، میانگین تعداد مشتری‌ها در بازه‌های زمانی یک ساعته، برابر با arrival_rate * 60 می‌باشد. \n",
        "</div>"
      ]
    },
    {
      "cell_type": "code",
      "execution_count": null,
      "id": "f5580feb",
      "metadata": {
        "id": "f5580feb"
      },
      "outputs": [],
      "source": [
        "for i,arrival_rate in enumerate(arrival_rates):\n",
        "    number_of_arrivals[i] = poisson(arrival_rate * 60)"
      ]
    },
    {
      "cell_type": "code",
      "execution_count": null,
      "id": "35fa14cd",
      "metadata": {
        "colab": {
          "base_uri": "https://localhost:8080/"
        },
        "id": "35fa14cd",
        "outputId": "1448786f-928f-412f-b075-3271b9fe9d8f"
      },
      "outputs": [
        {
          "output_type": "execute_result",
          "data": {
            "text/plain": [
              "array([ 66.,  49., 108., 109., 115., 168., 134., 138., 142., 108., 230.,\n",
              "       216., 169., 188., 117., 118.,  57.])"
            ]
          },
          "metadata": {},
          "execution_count": 56
        }
      ],
      "source": [
        "number_of_arrivals"
      ]
    },
    {
      "cell_type": "markdown",
      "id": "a86a6893",
      "metadata": {
        "id": "a86a6893"
      },
      "source": [
        "<div dir=rtl>\n",
        "میانگین تعداد مشتری‌های ورودی در بازه‌های زمانی یک ساعته، عبارت است از:\n",
        "</div>"
      ]
    },
    {
      "cell_type": "code",
      "execution_count": null,
      "id": "53eaf305",
      "metadata": {
        "colab": {
          "base_uri": "https://localhost:8080/"
        },
        "id": "53eaf305",
        "outputId": "883592de-f65d-4e7f-fcb5-9d23a04469b5"
      },
      "outputs": [
        {
          "output_type": "execute_result",
          "data": {
            "text/plain": [
              "131.2941176470588"
            ]
          },
          "metadata": {},
          "execution_count": 57
        }
      ],
      "source": [
        "number_of_arrivals.mean()"
      ]
    },
    {
      "cell_type": "markdown",
      "id": "266021a6",
      "metadata": {
        "id": "266021a6"
      },
      "source": [
        "<div dir=rtl>\n",
        "همان‌طور که مشهود است؛ این عدد، با تقریب خوبی، نشان‌دهنده ضرب نرخ ورودی در عدد شصت می‌باشد.\n",
        "</div>"
      ]
    },
    {
      "cell_type": "markdown",
      "id": "023cab84",
      "metadata": {
        "id": "023cab84"
      },
      "source": [
        "<div dir=rtl>\n",
        "تعداد کل افراد ورودی نیز، عبارت است از:\n",
        "</div>"
      ]
    },
    {
      "cell_type": "code",
      "execution_count": null,
      "id": "09578d44",
      "metadata": {
        "colab": {
          "base_uri": "https://localhost:8080/"
        },
        "id": "09578d44",
        "outputId": "0cd7167e-8af6-4599-9946-d042a86a334a"
      },
      "outputs": [
        {
          "output_type": "execute_result",
          "data": {
            "text/plain": [
              "2232.0"
            ]
          },
          "metadata": {},
          "execution_count": 58
        }
      ],
      "source": [
        "number_of_arrivals.sum()"
      ]
    },
    {
      "cell_type": "markdown",
      "id": "c2ac527d",
      "metadata": {
        "id": "c2ac527d"
      },
      "source": [
        "<div dir=rtl>\n",
        "اکنون میانگین زمانی که یک مشتری، پشت صندوق صرف می‌کند را بر حسب دقیقه در نظر\n",
        " می‌گیریم.\n",
        "</div>"
      ]
    },
    {
      "cell_type": "code",
      "execution_count": null,
      "id": "e28865b7",
      "metadata": {
        "id": "e28865b7"
      },
      "outputs": [],
      "source": [
        "average_of_service_time = 2.5"
      ]
    },
    {
      "cell_type": "markdown",
      "id": "ccc061bb",
      "metadata": {
        "id": "ccc061bb"
      },
      "source": [
        "<div dir=rtl>\n",
        "زمان سرویس دهی را از توزیع نمایی در نظر می‌گیریم.\n",
        "</div>"
      ]
    },
    {
      "cell_type": "code",
      "execution_count": null,
      "id": "242a66b2",
      "metadata": {
        "id": "242a66b2"
      },
      "outputs": [],
      "source": [
        "service_time = exponential(average_of_service_time,size = int(number_of_arrivals.sum()))"
      ]
    },
    {
      "cell_type": "code",
      "execution_count": null,
      "id": "d51e1ad6",
      "metadata": {
        "colab": {
          "base_uri": "https://localhost:8080/"
        },
        "id": "d51e1ad6",
        "outputId": "99afc2ae-4c3f-498e-f7ad-f5a036338e2f"
      },
      "outputs": [
        {
          "output_type": "execute_result",
          "data": {
            "text/plain": [
              "(2.4622030125083345, 2.452044005222117)"
            ]
          },
          "metadata": {},
          "execution_count": 61
        }
      ],
      "source": [
        "service_time.mean() , service_time.std()"
      ]
    },
    {
      "cell_type": "markdown",
      "id": "c07e1120",
      "metadata": {
        "id": "c07e1120"
      },
      "source": [
        "<div dir=rtl>\n",
        "اگر در یک بازه زمانی یک ساعته، میانگین تعداد مشتری‌ها را در میانگین زمان خدمات ‌هر مشتری، ضرب کنیم؛ آنگاه می‌توانیم زمان مورد نیاز برای رسیدگی به تمام مشتری‌هایی  که در آن بازه، به سوپر مارکت مراجعه کرده‌اند را بر حسب دقیقه، محاسبه کنیم. \n",
        "</div>"
      ]
    },
    {
      "cell_type": "code",
      "execution_count": null,
      "id": "a8cae359",
      "metadata": {
        "id": "a8cae359"
      },
      "outputs": [],
      "source": [
        "time_required_list = []\n",
        "for arrival_rate in arrival_rates:\n",
        "    time_required = arrival_rate * 60 * average_of_service_time\n",
        "    time_required_list.append(time_required)"
      ]
    },
    {
      "cell_type": "code",
      "execution_count": null,
      "id": "2896a64e",
      "metadata": {
        "colab": {
          "base_uri": "https://localhost:8080/"
        },
        "id": "2896a64e",
        "outputId": "77f27554-4a91-48d9-b8b7-2225293e77e4"
      },
      "outputs": [
        {
          "output_type": "execute_result",
          "data": {
            "text/plain": [
              "[150.0,\n",
              " 150.0,\n",
              " 300.0,\n",
              " 300.0,\n",
              " 300.0,\n",
              " 450.0,\n",
              " 375.0,\n",
              " 375.0,\n",
              " 300.0,\n",
              " 300.0,\n",
              " 600.0,\n",
              " 525.0,\n",
              " 450.0,\n",
              " 450.0,\n",
              " 300.0,\n",
              " 300.0,\n",
              " 150.0]"
            ]
          },
          "metadata": {},
          "execution_count": 63
        }
      ],
      "source": [
        "time_required_list"
      ]
    },
    {
      "cell_type": "markdown",
      "id": "c853c529",
      "metadata": {
        "id": "c853c529"
      },
      "source": [
        "<div dir=rtl>\n",
        "به عنوان مثال در ساعت هفت الی هشت صبح، نرخ ورودی، یک در ساعت می‌باشد و این، بدین معنا خواهد بود که به طور متوسط در آن بازه زمانی، شصت نفر، وارد سوپر مارکت \n",
        "می‌شوند. همان‌طور که از نتایج بالا، مشهود است؛ در زمان مذکور، برای رسیدگی به تمام مشتری‌ها، به صد و پنجاه دقیقه، وقت نیاز داریم که معادل با دو و نیم ساعت خواهد بود. اما چون نمی‌توانیم در یک بازه یک ساعته، دو و نیم ساعت را به خدمات اختصاص دهیم؛ بنابراین نیازمند سرورهای بیشتری هستیم. در اینجا، به طور خاص به سه سرور نیاز خواهیم داشت. \n",
        "</div>"
      ]
    },
    {
      "cell_type": "markdown",
      "id": "e623a1c5",
      "metadata": {
        "id": "e623a1c5"
      },
      "source": [
        "<div dir=rtl>\n",
        "برای محاسبه تعداد سرورهای مورد نیاز، به صورت زیر عمل خواهیم کرد:\n",
        "</div>"
      ]
    },
    {
      "cell_type": "code",
      "execution_count": null,
      "id": "781d8bb2",
      "metadata": {
        "id": "781d8bb2"
      },
      "outputs": [],
      "source": [
        "# first case\n",
        "slack_server = 1\n",
        "num_required_server_list = []\n",
        "for i in time_required_list:\n",
        "    num_required_server = np.array(i/60 + slack_server, dtype = int)\n",
        "    num_required_server_list.append(num_required_server)"
      ]
    },
    {
      "cell_type": "code",
      "execution_count": null,
      "id": "a96a87c9",
      "metadata": {
        "colab": {
          "base_uri": "https://localhost:8080/"
        },
        "id": "a96a87c9",
        "outputId": "19e0e5ec-098c-4e6b-ed41-72f094a26c5f"
      },
      "outputs": [
        {
          "output_type": "execute_result",
          "data": {
            "text/plain": [
              "[array(3),\n",
              " array(3),\n",
              " array(6),\n",
              " array(6),\n",
              " array(6),\n",
              " array(8),\n",
              " array(7),\n",
              " array(7),\n",
              " array(6),\n",
              " array(6),\n",
              " array(11),\n",
              " array(9),\n",
              " array(8),\n",
              " array(8),\n",
              " array(6),\n",
              " array(6),\n",
              " array(3)]"
            ]
          },
          "metadata": {},
          "execution_count": 65
        }
      ],
      "source": [
        "num_required_server_list"
      ]
    },
    {
      "cell_type": "markdown",
      "id": "c4be2a15",
      "metadata": {
        "id": "c4be2a15"
      },
      "source": [
        "<div dir=rtl>\n",
        "و تعداد کل سرورهای مورد نظر را به صورت زیر محاسبه می‌کنیم:\n",
        "</div>\n"
      ]
    },
    {
      "cell_type": "code",
      "execution_count": null,
      "id": "ec80a6fe",
      "metadata": {
        "id": "ec80a6fe"
      },
      "outputs": [],
      "source": [
        "total_offered_service_capacity = 0\n",
        "for el in num_required_server_list:\n",
        "    total_offered_service_capacity = total_offered_service_capacity + el    "
      ]
    },
    {
      "cell_type": "code",
      "execution_count": null,
      "id": "2f1ee654",
      "metadata": {
        "colab": {
          "base_uri": "https://localhost:8080/"
        },
        "id": "2f1ee654",
        "outputId": "96c5b816-73ce-40b2-b9e2-9be27fc741dd"
      },
      "outputs": [
        {
          "output_type": "execute_result",
          "data": {
            "text/plain": [
              "109"
            ]
          },
          "metadata": {},
          "execution_count": 67
        }
      ],
      "source": [
        "total_offered_service_capacity"
      ]
    },
    {
      "cell_type": "markdown",
      "id": "79379b09",
      "metadata": {
        "id": "79379b09"
      },
      "source": [
        "<div dir=rtl>\n",
        "زمان خدمات در مجموع، برابر با مقدار زیر خواهد بود:\n",
        "</div>"
      ]
    },
    {
      "cell_type": "code",
      "execution_count": null,
      "id": "a3404576",
      "metadata": {
        "colab": {
          "base_uri": "https://localhost:8080/"
        },
        "id": "a3404576",
        "outputId": "a7f1ef06-c44d-47e2-8451-722c6ba5c13e"
      },
      "outputs": [
        {
          "output_type": "execute_result",
          "data": {
            "text/plain": [
              "5495.637123918603"
            ]
          },
          "metadata": {},
          "execution_count": 68
        }
      ],
      "source": [
        "service_time.sum()"
      ]
    },
    {
      "cell_type": "markdown",
      "id": "c5051a68",
      "metadata": {
        "id": "c5051a68"
      },
      "source": [
        "<div dir=rtl>\n",
        "که می‌توانیم آن را بر اساس ساعت نیز بیان کنیم:\n",
        "</div>"
      ]
    },
    {
      "cell_type": "code",
      "execution_count": null,
      "id": "df07f988",
      "metadata": {
        "id": "df07f988"
      },
      "outputs": [],
      "source": [
        "total_offered_service = service_time.sum() / 60"
      ]
    },
    {
      "cell_type": "code",
      "execution_count": null,
      "id": "dfcdfacc",
      "metadata": {
        "colab": {
          "base_uri": "https://localhost:8080/"
        },
        "id": "dfcdfacc",
        "outputId": "6f86ed3b-869b-4242-fd34-47e09de04ef9"
      },
      "outputs": [
        {
          "output_type": "execute_result",
          "data": {
            "text/plain": [
              "91.59395206531005"
            ]
          },
          "metadata": {},
          "execution_count": 70
        }
      ],
      "source": [
        "total_offered_service "
      ]
    },
    {
      "cell_type": "markdown",
      "id": "d8cb0169",
      "metadata": {
        "id": "d8cb0169"
      },
      "source": [
        "<div dir=rtl>\n",
        "بنابراین، مطابق با آنچه گفته شد؛ به  total_offered_service  + 1 \n",
        "سرور، نیاز خواهیم داشت. \n",
        "\n",
        "</div>"
      ]
    },
    {
      "cell_type": "markdown",
      "id": "b66958ba",
      "metadata": {
        "id": "b66958ba"
      },
      "source": [
        "<div dir=rtl>\n",
        "همچنین می‌توانیم درصد مشغول بودن و نبودن سرورها را محاسبه کنیم.\n",
        "</div>"
      ]
    },
    {
      "cell_type": "code",
      "execution_count": null,
      "id": "50a09a58",
      "metadata": {
        "colab": {
          "base_uri": "https://localhost:8080/"
        },
        "id": "50a09a58",
        "outputId": "64ee9305-17a6-43e4-e340-7318f3dd026d"
      },
      "outputs": [
        {
          "output_type": "execute_result",
          "data": {
            "text/plain": [
              "0.8403114868377068"
            ]
          },
          "metadata": {},
          "execution_count": 71
        }
      ],
      "source": [
        "busy = total_offered_service / total_offered_service_capacity\n",
        "busy"
      ]
    },
    {
      "cell_type": "code",
      "execution_count": null,
      "id": "2b1ba038",
      "metadata": {
        "colab": {
          "base_uri": "https://localhost:8080/"
        },
        "id": "2b1ba038",
        "outputId": "7a61a14a-ee21-4559-aa0a-1116680ab72d"
      },
      "outputs": [
        {
          "output_type": "execute_result",
          "data": {
            "text/plain": [
              "0.15968851316229316"
            ]
          },
          "metadata": {},
          "execution_count": 72
        }
      ],
      "source": [
        "idle = 1 - total_offered_service / total_offered_service_capacity\n",
        "idle"
      ]
    },
    {
      "cell_type": "markdown",
      "id": "6fcc1fb3",
      "metadata": {
        "id": "6fcc1fb3"
      },
      "source": [
        "<div dir=rtl>\n",
        "ما در عبارات بالا، تعداد سرورهای کمکی را برابر با یک در نظر گرفته بودیم. اگر این تعداد را افزایش دهیم؛ واضحا درصد مشغول بودن سرورها، کاهش و درصد مشغول نبودن آن‌ها، افزایش خواهد یافت. به عنوان مثال، اگر تعداد سرورهای کمکی را برابر با سه در نظر بگیریم؛ خواهیم داشت که:\n",
        "</div>"
      ]
    },
    {
      "cell_type": "markdown",
      "id": "cf330eaf",
      "metadata": {
        "id": "cf330eaf"
      },
      "source": [
        "<div dir=rtl>\n",
        "پس از آن، زمان ورود هر مشتری را به صورت زیر محاسبه می‌کنیم.\n",
        "</div>"
      ]
    },
    {
      "cell_type": "code",
      "execution_count": null,
      "id": "59e3b8a7",
      "metadata": {
        "colab": {
          "base_uri": "https://localhost:8080/"
        },
        "id": "59e3b8a7",
        "outputId": "72fa2d35-442d-4dc7-bd73-100993577e0d"
      },
      "outputs": [
        {
          "output_type": "execute_result",
          "data": {
            "text/plain": [
              "array([0., 0., 0., ..., 0., 0., 0.])"
            ]
          },
          "metadata": {},
          "execution_count": 79
        }
      ],
      "source": [
        "arrival_times = np.zeros(int(number_of_arrivals.sum()) + 1)\n",
        "arrival_times"
      ]
    },
    {
      "cell_type": "code",
      "execution_count": null,
      "id": "5c1e6314",
      "metadata": {
        "colab": {
          "base_uri": "https://localhost:8080/"
        },
        "id": "5c1e6314",
        "outputId": "04ee9ef7-9eb4-46b7-a45e-54e5e0d57798"
      },
      "outputs": [
        {
          "output_type": "execute_result",
          "data": {
            "text/plain": [
              "array([ 66.,  49., 108., 109., 115., 168., 134., 138., 142., 108., 230.,\n",
              "       216., 169., 188., 117., 118.,  57.])"
            ]
          },
          "metadata": {},
          "execution_count": 80
        }
      ],
      "source": [
        "number_of_arrivals"
      ]
    },
    {
      "cell_type": "code",
      "execution_count": null,
      "id": "88243c57",
      "metadata": {
        "id": "88243c57"
      },
      "outputs": [],
      "source": [
        "number_of_arrivals_list = []\n",
        "for i in number_of_arrivals:\n",
        "    number_of_arrivals_list.append(int(i))"
      ]
    },
    {
      "cell_type": "code",
      "execution_count": null,
      "id": "12e1aeab",
      "metadata": {
        "colab": {
          "base_uri": "https://localhost:8080/"
        },
        "id": "12e1aeab",
        "outputId": "a09a1b6e-8dc5-4928-e4f0-4705ceb9a3d5"
      },
      "outputs": [
        {
          "output_type": "execute_result",
          "data": {
            "text/plain": [
              "[66,\n",
              " 49,\n",
              " 108,\n",
              " 109,\n",
              " 115,\n",
              " 168,\n",
              " 134,\n",
              " 138,\n",
              " 142,\n",
              " 108,\n",
              " 230,\n",
              " 216,\n",
              " 169,\n",
              " 188,\n",
              " 117,\n",
              " 118,\n",
              " 57]"
            ]
          },
          "metadata": {},
          "execution_count": 82
        }
      ],
      "source": [
        "number_of_arrivals_list"
      ]
    },
    {
      "cell_type": "markdown",
      "id": "bd83bf9b",
      "metadata": {
        "id": "bd83bf9b"
      },
      "source": [
        "<div dir=rtl>\n",
        "می‌دانیم که طبق قضیه‌ای که ارتباط میان توزیع پواسون و نمایی را مشخص می‌کند؛ اگر \n",
        "زمان میان ورود دو مشتری، نمایی باشد و در یک بازه مشخص، تعداد مشخصی مشتری وارد شوند؛ آنگاه زمان ورود این مشتری‌ها در این بازه، به صورت یکنواخت توزیع خواهد شد. \n",
        "</div>"
      ]
    },
    {
      "cell_type": "code",
      "execution_count": null,
      "id": "702e4897",
      "metadata": {
        "id": "702e4897"
      },
      "outputs": [],
      "source": [
        "start = 1\n",
        "for n in number_of_arrivals_list:\n",
        "    \n",
        "    arrival_times[start : start + n] = arrival_times[start - 1] + sorted(uniform(0,60,size = n))\n",
        "    start += n"
      ]
    },
    {
      "cell_type": "code",
      "execution_count": null,
      "id": "4860c2cb",
      "metadata": {
        "colab": {
          "base_uri": "https://localhost:8080/"
        },
        "id": "4860c2cb",
        "outputId": "4d2de7c9-2734-44d7-ff67-1d3693081629"
      },
      "outputs": [
        {
          "output_type": "execute_result",
          "data": {
            "text/plain": [
              "array([ 0.        ,  4.64767262,  6.75198057,  7.76782293,  8.0726026 ,\n",
              "        8.18942409,  9.26713225, 10.01180692, 10.1289119 , 10.37352745])"
            ]
          },
          "metadata": {},
          "execution_count": 84
        }
      ],
      "source": [
        "arrival_times[0:10]"
      ]
    },
    {
      "cell_type": "markdown",
      "id": "8b25b069",
      "metadata": {
        "id": "8b25b069"
      },
      "source": [
        "<div dir=rtl>\n",
        "اکنون، زمان آن رسیده تا زمان انتظار مشتری‌ها را در طول زمان بررسی کنیم. \n",
        "</div>"
      ]
    },
    {
      "cell_type": "markdown",
      "id": "7a4babe0",
      "metadata": {
        "id": "7a4babe0"
      },
      "source": [
        "<div dir=rtl>\n",
        "خوب است تا دو حالت زیر را مد نظر قرار دهیم و آن‌ها را با هم مقایسه کنیم:\n",
        "\n",
        "* حالت اول: یک سرور با سرعت چند برابر یک سرور معمولی\n",
        "* حالت دوم: چندین سرور با سرعت معمولی \n",
        "</div>"
      ]
    },
    {
      "cell_type": "markdown",
      "id": "1bda834d",
      "metadata": {
        "id": "1bda834d"
      },
      "source": [
        "<div dir=rtl>\n",
        "بررسی حالت اول:\n",
        "</div>"
      ]
    },
    {
      "cell_type": "markdown",
      "id": "f9310a8e",
      "metadata": {
        "id": "f9310a8e"
      },
      "source": [
        "<div dir=rtl>\n",
        "در ابتدا، لیستی به طول تعداد کل مشتری‌هایی که به سوپرمارکت وارد شده‌اند؛ ایجاد می‌کنیم.\n",
        "</div>"
      ]
    },
    {
      "cell_type": "code",
      "execution_count": null,
      "id": "1b43cd0c",
      "metadata": {
        "id": "1b43cd0c"
      },
      "outputs": [],
      "source": [
        "waiting_times = np.zeros_like(service_time)"
      ]
    },
    {
      "cell_type": "code",
      "execution_count": null,
      "id": "cb6b5204",
      "metadata": {
        "colab": {
          "base_uri": "https://localhost:8080/"
        },
        "id": "cb6b5204",
        "outputId": "956931ce-28cd-48f7-b875-dd36708defc9"
      },
      "outputs": [
        {
          "output_type": "execute_result",
          "data": {
            "text/plain": [
              "array([0., 0., 0., ..., 0., 0., 0.])"
            ]
          },
          "metadata": {},
          "execution_count": 86
        }
      ],
      "source": [
        "waiting_times"
      ]
    },
    {
      "cell_type": "code",
      "execution_count": null,
      "id": "a2b7d442",
      "metadata": {
        "colab": {
          "base_uri": "https://localhost:8080/"
        },
        "id": "a2b7d442",
        "outputId": "44cde3de-94af-478e-afc6-b6170aaf24dd"
      },
      "outputs": [
        {
          "output_type": "execute_result",
          "data": {
            "text/plain": [
              "2232"
            ]
          },
          "metadata": {},
          "execution_count": 87
        }
      ],
      "source": [
        "len(waiting_times) "
      ]
    },
    {
      "cell_type": "code",
      "execution_count": null,
      "id": "e950475f",
      "metadata": {
        "id": "e950475f"
      },
      "outputs": [],
      "source": [
        "for k in range(1,len(waiting_times)):\n",
        "    interarrival_time= arrival_times[k] - arrival_times[k-1]\n",
        "    c = num_required_server_list[int(arrival_times[k]/60)]\n",
        "    waiting_times[k] = max(waiting_times[k-1] + service_time[k] / c - interarrival_time ,0)"
      ]
    },
    {
      "cell_type": "code",
      "execution_count": null,
      "id": "a8bd1ca2",
      "metadata": {
        "colab": {
          "base_uri": "https://localhost:8080/"
        },
        "id": "a8bd1ca2",
        "outputId": "b0042fd9-7571-4bec-fa80-107ecc0642e4"
      },
      "outputs": [
        {
          "output_type": "execute_result",
          "data": {
            "text/plain": [
              "(2.041641681546452, 1.8956034294939237, 8.812739309537564)"
            ]
          },
          "metadata": {},
          "execution_count": 89
        }
      ],
      "source": [
        "waiting_times.mean(),waiting_times.std(),np.max(waiting_times)"
      ]
    },
    {
      "cell_type": "code",
      "execution_count": null,
      "id": "6b256368",
      "metadata": {
        "colab": {
          "base_uri": "https://localhost:8080/",
          "height": 282
        },
        "id": "6b256368",
        "outputId": "a0a8502d-9883-4a1c-c7f7-e548630fc0ac"
      },
      "outputs": [
        {
          "output_type": "execute_result",
          "data": {
            "text/plain": [
              "[<matplotlib.lines.Line2D at 0x7f20d005e7c0>]"
            ]
          },
          "metadata": {},
          "execution_count": 90
        },
        {
          "output_type": "display_data",
          "data": {
            "text/plain": [
              "<Figure size 432x288 with 1 Axes>"
            ],
            "image/png": "[encoded data removed]"
          },
          "metadata": {
            "needs_background": "light"
          }
        }
      ],
      "source": [
        "plt.plot(waiting_times)"
      ]
    },
    {
      "cell_type": "markdown",
      "id": "a10be4ad",
      "metadata": {
        "id": "a10be4ad"
      },
      "source": [
        "<div dir=rtl>\n",
        "بررسی حالت دوم:\n",
        "</div>"
      ]
    },
    {
      "cell_type": "markdown",
      "id": "e81e36c7",
      "metadata": {
        "id": "e81e36c7"
      },
      "source": [
        "<div dir=rtl>\n",
        "در هر بازه زمانی، به تعدادی سرور نیاز داشتیم. بیشترین تعداد سرورها را مطابق با دستور زیر به دست می‌آوریم.  \n",
        "</div>"
      ]
    },
    {
      "cell_type": "code",
      "execution_count": null,
      "id": "8ca681cf",
      "metadata": {
        "id": "8ca681cf"
      },
      "outputs": [],
      "source": [
        "max_num_required_server = max(num_required_server_list)"
      ]
    },
    {
      "cell_type": "code",
      "execution_count": null,
      "id": "affb501e",
      "metadata": {
        "colab": {
          "base_uri": "https://localhost:8080/"
        },
        "id": "affb501e",
        "outputId": "1594288c-af88-43ed-faac-eee102c20196"
      },
      "outputs": [
        {
          "output_type": "execute_result",
          "data": {
            "text/plain": [
              "array(11)"
            ]
          },
          "metadata": {},
          "execution_count": 92
        }
      ],
      "source": [
        "max_num_required_server"
      ]
    },
    {
      "cell_type": "code",
      "execution_count": null,
      "id": "bae3a0c1",
      "metadata": {
        "colab": {
          "base_uri": "https://localhost:8080/"
        },
        "id": "bae3a0c1",
        "outputId": "42cf6de1-405a-427e-a27e-a952466aadeb"
      },
      "outputs": [
        {
          "output_type": "execute_result",
          "data": {
            "text/plain": [
              "array([1, 1, 1, 1, 1, 1, 1, 1, 1, 1, 1])"
            ]
          },
          "metadata": {},
          "execution_count": 93
        }
      ],
      "source": [
        "ones_list = np.ones(max_num_required_server,dtype = int)\n",
        "ones_list"
      ]
    },
    {
      "cell_type": "code",
      "execution_count": null,
      "id": "f3bca6fc",
      "metadata": {
        "id": "f3bca6fc"
      },
      "outputs": [],
      "source": [
        "server_wait = np.zeros(max_num_required_server)\n",
        "Waiting_times = np.zeros_like(service_time) \n",
        "\n",
        "for k in range(1,len(Waiting_times)):\n",
        "    Interarrival_time = arrival_times[k] - arrival_times[k-1]\n",
        "    c = num_required_server_list[int(arrival_times[k]/60)]\n",
        "    choosen_server = server_wait[:c].argmin()\n",
        "    Waiting_times[k] = server_wait[choosen_server]\n",
        "    server_wait[choosen_server] += service_time[k]\n",
        "    server_wait = np.maximum(0,server_wait-Interarrival_time*ones_list)"
      ]
    },
    {
      "cell_type": "code",
      "execution_count": null,
      "id": "b9e9305d",
      "metadata": {
        "colab": {
          "base_uri": "https://localhost:8080/"
        },
        "id": "b9e9305d",
        "outputId": "5946a044-e980-4cbc-d423-6d6ae256d6af"
      },
      "outputs": [
        {
          "output_type": "execute_result",
          "data": {
            "text/plain": [
              "(1.2208330253557742, 1.537532536181855, 8.10567500626753)"
            ]
          },
          "metadata": {},
          "execution_count": 95
        }
      ],
      "source": [
        "Waiting_times.mean(),Waiting_times.std(), np.max(Waiting_times)"
      ]
    },
    {
      "cell_type": "code",
      "execution_count": null,
      "id": "aa08ab34",
      "metadata": {
        "colab": {
          "base_uri": "https://localhost:8080/",
          "height": 265
        },
        "id": "aa08ab34",
        "outputId": "fb5cdc63-240e-4ab9-8aeb-5f68a7751596"
      },
      "outputs": [
        {
          "output_type": "display_data",
          "data": {
            "text/plain": [
              "<Figure size 432x288 with 1 Axes>"
            ],
            "image/png": "[encoded data removed]"
          },
          "metadata": {
            "needs_background": "light"
          }
        }
      ],
      "source": [
        "plt.plot(Waiting_times)\n",
        "plt.show()"
      ]
    },
    {
      "cell_type": "markdown",
      "id": "88a21464",
      "metadata": {
        "id": "88a21464"
      },
      "source": [
        "<div dir=rtl>\n",
        " نمودار حالت اول را مجددا رسم می‌کنیم تا شباهت بین دو نمودار را به صورت\n",
        "  واضح‌تری ببینیم.\n",
        "</div>"
      ]
    },
    {
      "cell_type": "code",
      "execution_count": null,
      "id": "577d865a",
      "metadata": {
        "colab": {
          "base_uri": "https://localhost:8080/",
          "height": 265
        },
        "id": "577d865a",
        "outputId": "325904c4-a150-43c2-e29b-4233d014d24d"
      },
      "outputs": [
        {
          "output_type": "display_data",
          "data": {
            "text/plain": [
              "<Figure size 432x288 with 1 Axes>"
            ],
            "image/png": "[encoded data removed]"
          },
          "metadata": {
            "needs_background": "light"
          }
        }
      ],
      "source": [
        "plt.plot(waiting_times)\n",
        "plt.show()"
      ]
    },
    {
      "cell_type": "code",
      "execution_count": null,
      "id": "f73389b4",
      "metadata": {
        "colab": {
          "base_uri": "https://localhost:8080/",
          "height": 265
        },
        "id": "f73389b4",
        "outputId": "08c2e738-e426-4823-ecb3-bfa9fa0361a1"
      },
      "outputs": [
        {
          "output_type": "display_data",
          "data": {
            "text/plain": [
              "<Figure size 432x288 with 1 Axes>"
            ],
            "image/png": "[encoded data removed]"
          },
          "metadata": {
            "needs_background": "light"
          }
        }
      ],
      "source": [
        "plt.plot(Waiting_times)\n",
        "plt.plot(waiting_times)\n",
        "plt.show()"
      ]
    },
    {
      "cell_type": "markdown",
      "id": "0eb0d227",
      "metadata": {
        "id": "0eb0d227"
      },
      "source": [
        "<div dir=rtl>\n",
        "همان‌طور که مشاهده می‌کنید؛ نمودار‌ها به طور کلی، یکسان هستند.\n",
        "</div>"
      ]
    }
  ],
  "metadata": {
    "direction": "rtl",
    "kernelspec": {
      "display_name": "Python 3",
      "language": "python",
      "name": "python3"
    },
    "language_info": {
      "codemirror_mode": {
        "name": "ipython",
        "version": 3
      },
      "file_extension": ".py",
      "mimetype": "text/x-python",
      "name": "python",
      "nbconvert_exporter": "python",
      "pygments_lexer": "ipython3",
      "version": "3.8.8"
    },
    "colab": {
      "provenance": []
    }
  },
  "nbformat": 4,
  "nbformat_minor": 5
}